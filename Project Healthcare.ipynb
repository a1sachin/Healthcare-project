{
 "cells": [
  {
   "cell_type": "code",
   "execution_count": 1,
   "id": "047a2d10",
   "metadata": {},
   "outputs": [],
   "source": [
    "import numpy as np\n",
    "import pandas as pd\n",
    "import matplotlib.pyplot as plt\n",
    "%matplotlib inline\n",
    "import pandas.plotting\n",
    "import seaborn as sns\n",
    "import statsmodels.api as sm"
   ]
  },
  {
   "cell_type": "code",
   "execution_count": 2,
   "id": "8f995a08",
   "metadata": {},
   "outputs": [],
   "source": [
    "health = pd.read_excel('C:\\\\Sachin new\\\\Simplilearn\\\\Course 3 - Machine Learning\\\\Project - Healthcare\\\\1645792390_cep1_dataset.xlsx')"
   ]
  },
  {
   "cell_type": "markdown",
   "id": "28657402",
   "metadata": {},
   "source": [
    "### 1. Preliminary Analysis"
   ]
  },
  {
   "cell_type": "markdown",
   "id": "e4202d76",
   "metadata": {},
   "source": [
    "### Step 1(a) Structure of data and finding missing values"
   ]
  },
  {
   "cell_type": "code",
   "execution_count": 3,
   "id": "4a002da2",
   "metadata": {},
   "outputs": [
    {
     "data": {
      "text/plain": [
       "(303, 14)"
      ]
     },
     "execution_count": 3,
     "metadata": {},
     "output_type": "execute_result"
    }
   ],
   "source": [
    "health.shape"
   ]
  },
  {
   "cell_type": "code",
   "execution_count": 4,
   "id": "62e2cd9a",
   "metadata": {},
   "outputs": [
    {
     "name": "stdout",
     "output_type": "stream",
     "text": [
      "<class 'pandas.core.frame.DataFrame'>\n",
      "RangeIndex: 303 entries, 0 to 302\n",
      "Data columns (total 14 columns):\n",
      " #   Column    Non-Null Count  Dtype  \n",
      "---  ------    --------------  -----  \n",
      " 0   age       303 non-null    int64  \n",
      " 1   sex       303 non-null    int64  \n",
      " 2   cp        303 non-null    int64  \n",
      " 3   trestbps  303 non-null    int64  \n",
      " 4   chol      303 non-null    int64  \n",
      " 5   fbs       303 non-null    int64  \n",
      " 6   restecg   303 non-null    int64  \n",
      " 7   thalach   303 non-null    int64  \n",
      " 8   exang     303 non-null    int64  \n",
      " 9   oldpeak   303 non-null    float64\n",
      " 10  slope     303 non-null    int64  \n",
      " 11  ca        303 non-null    int64  \n",
      " 12  thal      303 non-null    int64  \n",
      " 13  target    303 non-null    int64  \n",
      "dtypes: float64(1), int64(13)\n",
      "memory usage: 33.3 KB\n"
     ]
    }
   ],
   "source": [
    "health.info()"
   ]
  },
  {
   "cell_type": "code",
   "execution_count": 5,
   "id": "b1d16cd3",
   "metadata": {},
   "outputs": [
    {
     "data": {
      "text/html": [
       "<div>\n",
       "<style scoped>\n",
       "    .dataframe tbody tr th:only-of-type {\n",
       "        vertical-align: middle;\n",
       "    }\n",
       "\n",
       "    .dataframe tbody tr th {\n",
       "        vertical-align: top;\n",
       "    }\n",
       "\n",
       "    .dataframe thead th {\n",
       "        text-align: right;\n",
       "    }\n",
       "</style>\n",
       "<table border=\"1\" class=\"dataframe\">\n",
       "  <thead>\n",
       "    <tr style=\"text-align: right;\">\n",
       "      <th></th>\n",
       "      <th>age</th>\n",
       "      <th>sex</th>\n",
       "      <th>cp</th>\n",
       "      <th>trestbps</th>\n",
       "      <th>chol</th>\n",
       "      <th>fbs</th>\n",
       "      <th>restecg</th>\n",
       "      <th>thalach</th>\n",
       "      <th>exang</th>\n",
       "      <th>oldpeak</th>\n",
       "      <th>slope</th>\n",
       "      <th>ca</th>\n",
       "      <th>thal</th>\n",
       "      <th>target</th>\n",
       "    </tr>\n",
       "  </thead>\n",
       "  <tbody>\n",
       "    <tr>\n",
       "      <th>0</th>\n",
       "      <td>63</td>\n",
       "      <td>1</td>\n",
       "      <td>3</td>\n",
       "      <td>145</td>\n",
       "      <td>233</td>\n",
       "      <td>1</td>\n",
       "      <td>0</td>\n",
       "      <td>150</td>\n",
       "      <td>0</td>\n",
       "      <td>2.3</td>\n",
       "      <td>0</td>\n",
       "      <td>0</td>\n",
       "      <td>1</td>\n",
       "      <td>1</td>\n",
       "    </tr>\n",
       "    <tr>\n",
       "      <th>1</th>\n",
       "      <td>37</td>\n",
       "      <td>1</td>\n",
       "      <td>2</td>\n",
       "      <td>130</td>\n",
       "      <td>250</td>\n",
       "      <td>0</td>\n",
       "      <td>1</td>\n",
       "      <td>187</td>\n",
       "      <td>0</td>\n",
       "      <td>3.5</td>\n",
       "      <td>0</td>\n",
       "      <td>0</td>\n",
       "      <td>2</td>\n",
       "      <td>1</td>\n",
       "    </tr>\n",
       "    <tr>\n",
       "      <th>2</th>\n",
       "      <td>41</td>\n",
       "      <td>0</td>\n",
       "      <td>1</td>\n",
       "      <td>130</td>\n",
       "      <td>204</td>\n",
       "      <td>0</td>\n",
       "      <td>0</td>\n",
       "      <td>172</td>\n",
       "      <td>0</td>\n",
       "      <td>1.4</td>\n",
       "      <td>2</td>\n",
       "      <td>0</td>\n",
       "      <td>2</td>\n",
       "      <td>1</td>\n",
       "    </tr>\n",
       "    <tr>\n",
       "      <th>3</th>\n",
       "      <td>56</td>\n",
       "      <td>1</td>\n",
       "      <td>1</td>\n",
       "      <td>120</td>\n",
       "      <td>236</td>\n",
       "      <td>0</td>\n",
       "      <td>1</td>\n",
       "      <td>178</td>\n",
       "      <td>0</td>\n",
       "      <td>0.8</td>\n",
       "      <td>2</td>\n",
       "      <td>0</td>\n",
       "      <td>2</td>\n",
       "      <td>1</td>\n",
       "    </tr>\n",
       "    <tr>\n",
       "      <th>4</th>\n",
       "      <td>57</td>\n",
       "      <td>0</td>\n",
       "      <td>0</td>\n",
       "      <td>120</td>\n",
       "      <td>354</td>\n",
       "      <td>0</td>\n",
       "      <td>1</td>\n",
       "      <td>163</td>\n",
       "      <td>1</td>\n",
       "      <td>0.6</td>\n",
       "      <td>2</td>\n",
       "      <td>0</td>\n",
       "      <td>2</td>\n",
       "      <td>1</td>\n",
       "    </tr>\n",
       "  </tbody>\n",
       "</table>\n",
       "</div>"
      ],
      "text/plain": [
       "   age  sex  cp  trestbps  chol  fbs  restecg  thalach  exang  oldpeak  slope  \\\n",
       "0   63    1   3       145   233    1        0      150      0      2.3      0   \n",
       "1   37    1   2       130   250    0        1      187      0      3.5      0   \n",
       "2   41    0   1       130   204    0        0      172      0      1.4      2   \n",
       "3   56    1   1       120   236    0        1      178      0      0.8      2   \n",
       "4   57    0   0       120   354    0        1      163      1      0.6      2   \n",
       "\n",
       "   ca  thal  target  \n",
       "0   0     1       1  \n",
       "1   0     2       1  \n",
       "2   0     2       1  \n",
       "3   0     2       1  \n",
       "4   0     2       1  "
      ]
     },
     "execution_count": 5,
     "metadata": {},
     "output_type": "execute_result"
    }
   ],
   "source": [
    "health.head()"
   ]
  },
  {
   "cell_type": "code",
   "execution_count": 6,
   "id": "a333295c",
   "metadata": {},
   "outputs": [
    {
     "data": {
      "text/plain": [
       "1    165\n",
       "0    138\n",
       "Name: target, dtype: int64"
      ]
     },
     "execution_count": 6,
     "metadata": {},
     "output_type": "execute_result"
    }
   ],
   "source": [
    "health.target.value_counts()"
   ]
  },
  {
   "cell_type": "code",
   "execution_count": 7,
   "id": "898daca7",
   "metadata": {},
   "outputs": [
    {
     "data": {
      "text/plain": [
       "age         0\n",
       "sex         0\n",
       "cp          0\n",
       "trestbps    0\n",
       "chol        0\n",
       "fbs         0\n",
       "restecg     0\n",
       "thalach     0\n",
       "exang       0\n",
       "oldpeak     0\n",
       "slope       0\n",
       "ca          0\n",
       "thal        0\n",
       "target      0\n",
       "dtype: int64"
      ]
     },
     "execution_count": 7,
     "metadata": {},
     "output_type": "execute_result"
    }
   ],
   "source": [
    "health.isna().sum()"
   ]
  },
  {
   "cell_type": "markdown",
   "id": "2ed0b161",
   "metadata": {},
   "source": [
    "### 1(b) Remove duplicates"
   ]
  },
  {
   "cell_type": "code",
   "execution_count": 8,
   "id": "48fa5e03",
   "metadata": {},
   "outputs": [
    {
     "data": {
      "text/html": [
       "<div>\n",
       "<style scoped>\n",
       "    .dataframe tbody tr th:only-of-type {\n",
       "        vertical-align: middle;\n",
       "    }\n",
       "\n",
       "    .dataframe tbody tr th {\n",
       "        vertical-align: top;\n",
       "    }\n",
       "\n",
       "    .dataframe thead th {\n",
       "        text-align: right;\n",
       "    }\n",
       "</style>\n",
       "<table border=\"1\" class=\"dataframe\">\n",
       "  <thead>\n",
       "    <tr style=\"text-align: right;\">\n",
       "      <th></th>\n",
       "      <th>age</th>\n",
       "      <th>sex</th>\n",
       "      <th>cp</th>\n",
       "      <th>trestbps</th>\n",
       "      <th>chol</th>\n",
       "      <th>fbs</th>\n",
       "      <th>restecg</th>\n",
       "      <th>thalach</th>\n",
       "      <th>exang</th>\n",
       "      <th>oldpeak</th>\n",
       "      <th>slope</th>\n",
       "      <th>ca</th>\n",
       "      <th>thal</th>\n",
       "      <th>target</th>\n",
       "    </tr>\n",
       "  </thead>\n",
       "  <tbody>\n",
       "    <tr>\n",
       "      <th>163</th>\n",
       "      <td>38</td>\n",
       "      <td>1</td>\n",
       "      <td>2</td>\n",
       "      <td>138</td>\n",
       "      <td>175</td>\n",
       "      <td>0</td>\n",
       "      <td>1</td>\n",
       "      <td>173</td>\n",
       "      <td>0</td>\n",
       "      <td>0.0</td>\n",
       "      <td>2</td>\n",
       "      <td>4</td>\n",
       "      <td>2</td>\n",
       "      <td>1</td>\n",
       "    </tr>\n",
       "    <tr>\n",
       "      <th>164</th>\n",
       "      <td>38</td>\n",
       "      <td>1</td>\n",
       "      <td>2</td>\n",
       "      <td>138</td>\n",
       "      <td>175</td>\n",
       "      <td>0</td>\n",
       "      <td>1</td>\n",
       "      <td>173</td>\n",
       "      <td>0</td>\n",
       "      <td>0.0</td>\n",
       "      <td>2</td>\n",
       "      <td>4</td>\n",
       "      <td>2</td>\n",
       "      <td>1</td>\n",
       "    </tr>\n",
       "  </tbody>\n",
       "</table>\n",
       "</div>"
      ],
      "text/plain": [
       "     age  sex  cp  trestbps  chol  fbs  restecg  thalach  exang  oldpeak  \\\n",
       "163   38    1   2       138   175    0        1      173      0      0.0   \n",
       "164   38    1   2       138   175    0        1      173      0      0.0   \n",
       "\n",
       "     slope  ca  thal  target  \n",
       "163      2   4     2       1  \n",
       "164      2   4     2       1  "
      ]
     },
     "execution_count": 8,
     "metadata": {},
     "output_type": "execute_result"
    }
   ],
   "source": [
    "health[health.duplicated(keep = False)]"
   ]
  },
  {
   "cell_type": "code",
   "execution_count": 9,
   "id": "d1e8ffb7",
   "metadata": {},
   "outputs": [],
   "source": [
    "health.drop_duplicates(inplace=True)"
   ]
  },
  {
   "cell_type": "code",
   "execution_count": null,
   "id": "5d880963",
   "metadata": {},
   "outputs": [],
   "source": [
    "# There was one duplicate item which was removed from the database."
   ]
  },
  {
   "cell_type": "code",
   "execution_count": 10,
   "id": "5c8371a4",
   "metadata": {},
   "outputs": [
    {
     "data": {
      "text/plain": [
       "(302, 14)"
      ]
     },
     "execution_count": 10,
     "metadata": {},
     "output_type": "execute_result"
    }
   ],
   "source": [
    "health.shape"
   ]
  },
  {
   "cell_type": "markdown",
   "id": "9e7a571b",
   "metadata": {},
   "source": [
    "### Step 2(a) Statistical summary and spread of data"
   ]
  },
  {
   "cell_type": "code",
   "execution_count": 11,
   "id": "f1850398",
   "metadata": {},
   "outputs": [
    {
     "data": {
      "text/html": [
       "<div>\n",
       "<style scoped>\n",
       "    .dataframe tbody tr th:only-of-type {\n",
       "        vertical-align: middle;\n",
       "    }\n",
       "\n",
       "    .dataframe tbody tr th {\n",
       "        vertical-align: top;\n",
       "    }\n",
       "\n",
       "    .dataframe thead th {\n",
       "        text-align: right;\n",
       "    }\n",
       "</style>\n",
       "<table border=\"1\" class=\"dataframe\">\n",
       "  <thead>\n",
       "    <tr style=\"text-align: right;\">\n",
       "      <th></th>\n",
       "      <th>count</th>\n",
       "      <th>mean</th>\n",
       "      <th>std</th>\n",
       "      <th>min</th>\n",
       "      <th>25%</th>\n",
       "      <th>50%</th>\n",
       "      <th>75%</th>\n",
       "      <th>max</th>\n",
       "    </tr>\n",
       "  </thead>\n",
       "  <tbody>\n",
       "    <tr>\n",
       "      <th>age</th>\n",
       "      <td>302.0</td>\n",
       "      <td>54.420530</td>\n",
       "      <td>9.047970</td>\n",
       "      <td>29.0</td>\n",
       "      <td>48.00</td>\n",
       "      <td>55.5</td>\n",
       "      <td>61.00</td>\n",
       "      <td>77.0</td>\n",
       "    </tr>\n",
       "    <tr>\n",
       "      <th>sex</th>\n",
       "      <td>302.0</td>\n",
       "      <td>0.682119</td>\n",
       "      <td>0.466426</td>\n",
       "      <td>0.0</td>\n",
       "      <td>0.00</td>\n",
       "      <td>1.0</td>\n",
       "      <td>1.00</td>\n",
       "      <td>1.0</td>\n",
       "    </tr>\n",
       "    <tr>\n",
       "      <th>cp</th>\n",
       "      <td>302.0</td>\n",
       "      <td>0.963576</td>\n",
       "      <td>1.032044</td>\n",
       "      <td>0.0</td>\n",
       "      <td>0.00</td>\n",
       "      <td>1.0</td>\n",
       "      <td>2.00</td>\n",
       "      <td>3.0</td>\n",
       "    </tr>\n",
       "    <tr>\n",
       "      <th>trestbps</th>\n",
       "      <td>302.0</td>\n",
       "      <td>131.602649</td>\n",
       "      <td>17.563394</td>\n",
       "      <td>94.0</td>\n",
       "      <td>120.00</td>\n",
       "      <td>130.0</td>\n",
       "      <td>140.00</td>\n",
       "      <td>200.0</td>\n",
       "    </tr>\n",
       "    <tr>\n",
       "      <th>chol</th>\n",
       "      <td>302.0</td>\n",
       "      <td>246.500000</td>\n",
       "      <td>51.753489</td>\n",
       "      <td>126.0</td>\n",
       "      <td>211.00</td>\n",
       "      <td>240.5</td>\n",
       "      <td>274.75</td>\n",
       "      <td>564.0</td>\n",
       "    </tr>\n",
       "    <tr>\n",
       "      <th>fbs</th>\n",
       "      <td>302.0</td>\n",
       "      <td>0.149007</td>\n",
       "      <td>0.356686</td>\n",
       "      <td>0.0</td>\n",
       "      <td>0.00</td>\n",
       "      <td>0.0</td>\n",
       "      <td>0.00</td>\n",
       "      <td>1.0</td>\n",
       "    </tr>\n",
       "    <tr>\n",
       "      <th>restecg</th>\n",
       "      <td>302.0</td>\n",
       "      <td>0.526490</td>\n",
       "      <td>0.526027</td>\n",
       "      <td>0.0</td>\n",
       "      <td>0.00</td>\n",
       "      <td>1.0</td>\n",
       "      <td>1.00</td>\n",
       "      <td>2.0</td>\n",
       "    </tr>\n",
       "    <tr>\n",
       "      <th>thalach</th>\n",
       "      <td>302.0</td>\n",
       "      <td>149.569536</td>\n",
       "      <td>22.903527</td>\n",
       "      <td>71.0</td>\n",
       "      <td>133.25</td>\n",
       "      <td>152.5</td>\n",
       "      <td>166.00</td>\n",
       "      <td>202.0</td>\n",
       "    </tr>\n",
       "    <tr>\n",
       "      <th>exang</th>\n",
       "      <td>302.0</td>\n",
       "      <td>0.327815</td>\n",
       "      <td>0.470196</td>\n",
       "      <td>0.0</td>\n",
       "      <td>0.00</td>\n",
       "      <td>0.0</td>\n",
       "      <td>1.00</td>\n",
       "      <td>1.0</td>\n",
       "    </tr>\n",
       "    <tr>\n",
       "      <th>oldpeak</th>\n",
       "      <td>302.0</td>\n",
       "      <td>1.043046</td>\n",
       "      <td>1.161452</td>\n",
       "      <td>0.0</td>\n",
       "      <td>0.00</td>\n",
       "      <td>0.8</td>\n",
       "      <td>1.60</td>\n",
       "      <td>6.2</td>\n",
       "    </tr>\n",
       "    <tr>\n",
       "      <th>slope</th>\n",
       "      <td>302.0</td>\n",
       "      <td>1.397351</td>\n",
       "      <td>0.616274</td>\n",
       "      <td>0.0</td>\n",
       "      <td>1.00</td>\n",
       "      <td>1.0</td>\n",
       "      <td>2.00</td>\n",
       "      <td>2.0</td>\n",
       "    </tr>\n",
       "    <tr>\n",
       "      <th>ca</th>\n",
       "      <td>302.0</td>\n",
       "      <td>0.718543</td>\n",
       "      <td>1.006748</td>\n",
       "      <td>0.0</td>\n",
       "      <td>0.00</td>\n",
       "      <td>0.0</td>\n",
       "      <td>1.00</td>\n",
       "      <td>4.0</td>\n",
       "    </tr>\n",
       "    <tr>\n",
       "      <th>thal</th>\n",
       "      <td>302.0</td>\n",
       "      <td>2.314570</td>\n",
       "      <td>0.613026</td>\n",
       "      <td>0.0</td>\n",
       "      <td>2.00</td>\n",
       "      <td>2.0</td>\n",
       "      <td>3.00</td>\n",
       "      <td>3.0</td>\n",
       "    </tr>\n",
       "    <tr>\n",
       "      <th>target</th>\n",
       "      <td>302.0</td>\n",
       "      <td>0.543046</td>\n",
       "      <td>0.498970</td>\n",
       "      <td>0.0</td>\n",
       "      <td>0.00</td>\n",
       "      <td>1.0</td>\n",
       "      <td>1.00</td>\n",
       "      <td>1.0</td>\n",
       "    </tr>\n",
       "  </tbody>\n",
       "</table>\n",
       "</div>"
      ],
      "text/plain": [
       "          count        mean        std    min     25%    50%     75%    max\n",
       "age       302.0   54.420530   9.047970   29.0   48.00   55.5   61.00   77.0\n",
       "sex       302.0    0.682119   0.466426    0.0    0.00    1.0    1.00    1.0\n",
       "cp        302.0    0.963576   1.032044    0.0    0.00    1.0    2.00    3.0\n",
       "trestbps  302.0  131.602649  17.563394   94.0  120.00  130.0  140.00  200.0\n",
       "chol      302.0  246.500000  51.753489  126.0  211.00  240.5  274.75  564.0\n",
       "fbs       302.0    0.149007   0.356686    0.0    0.00    0.0    0.00    1.0\n",
       "restecg   302.0    0.526490   0.526027    0.0    0.00    1.0    1.00    2.0\n",
       "thalach   302.0  149.569536  22.903527   71.0  133.25  152.5  166.00  202.0\n",
       "exang     302.0    0.327815   0.470196    0.0    0.00    0.0    1.00    1.0\n",
       "oldpeak   302.0    1.043046   1.161452    0.0    0.00    0.8    1.60    6.2\n",
       "slope     302.0    1.397351   0.616274    0.0    1.00    1.0    2.00    2.0\n",
       "ca        302.0    0.718543   1.006748    0.0    0.00    0.0    1.00    4.0\n",
       "thal      302.0    2.314570   0.613026    0.0    2.00    2.0    3.00    3.0\n",
       "target    302.0    0.543046   0.498970    0.0    0.00    1.0    1.00    1.0"
      ]
     },
     "execution_count": 11,
     "metadata": {},
     "output_type": "execute_result"
    }
   ],
   "source": [
    "health.describe().T"
   ]
  },
  {
   "cell_type": "code",
   "execution_count": 12,
   "id": "76e20bae",
   "metadata": {},
   "outputs": [
    {
     "data": {
      "text/html": [
       "<div>\n",
       "<style scoped>\n",
       "    .dataframe tbody tr th:only-of-type {\n",
       "        vertical-align: middle;\n",
       "    }\n",
       "\n",
       "    .dataframe tbody tr th {\n",
       "        vertical-align: top;\n",
       "    }\n",
       "\n",
       "    .dataframe thead th {\n",
       "        text-align: right;\n",
       "    }\n",
       "</style>\n",
       "<table border=\"1\" class=\"dataframe\">\n",
       "  <thead>\n",
       "    <tr style=\"text-align: right;\">\n",
       "      <th></th>\n",
       "      <th>age</th>\n",
       "      <th>sex</th>\n",
       "      <th>cp</th>\n",
       "      <th>trestbps</th>\n",
       "      <th>chol</th>\n",
       "      <th>fbs</th>\n",
       "      <th>restecg</th>\n",
       "      <th>thalach</th>\n",
       "      <th>exang</th>\n",
       "      <th>oldpeak</th>\n",
       "      <th>slope</th>\n",
       "      <th>ca</th>\n",
       "      <th>thal</th>\n",
       "      <th>target</th>\n",
       "    </tr>\n",
       "  </thead>\n",
       "  <tbody>\n",
       "    <tr>\n",
       "      <th>0</th>\n",
       "      <td>58.0</td>\n",
       "      <td>1.0</td>\n",
       "      <td>0.0</td>\n",
       "      <td>120.0</td>\n",
       "      <td>197</td>\n",
       "      <td>0.0</td>\n",
       "      <td>1.0</td>\n",
       "      <td>162.0</td>\n",
       "      <td>0.0</td>\n",
       "      <td>0.0</td>\n",
       "      <td>2.0</td>\n",
       "      <td>0.0</td>\n",
       "      <td>2.0</td>\n",
       "      <td>1.0</td>\n",
       "    </tr>\n",
       "    <tr>\n",
       "      <th>1</th>\n",
       "      <td>NaN</td>\n",
       "      <td>NaN</td>\n",
       "      <td>NaN</td>\n",
       "      <td>NaN</td>\n",
       "      <td>204</td>\n",
       "      <td>NaN</td>\n",
       "      <td>NaN</td>\n",
       "      <td>NaN</td>\n",
       "      <td>NaN</td>\n",
       "      <td>NaN</td>\n",
       "      <td>NaN</td>\n",
       "      <td>NaN</td>\n",
       "      <td>NaN</td>\n",
       "      <td>NaN</td>\n",
       "    </tr>\n",
       "    <tr>\n",
       "      <th>2</th>\n",
       "      <td>NaN</td>\n",
       "      <td>NaN</td>\n",
       "      <td>NaN</td>\n",
       "      <td>NaN</td>\n",
       "      <td>234</td>\n",
       "      <td>NaN</td>\n",
       "      <td>NaN</td>\n",
       "      <td>NaN</td>\n",
       "      <td>NaN</td>\n",
       "      <td>NaN</td>\n",
       "      <td>NaN</td>\n",
       "      <td>NaN</td>\n",
       "      <td>NaN</td>\n",
       "      <td>NaN</td>\n",
       "    </tr>\n",
       "  </tbody>\n",
       "</table>\n",
       "</div>"
      ],
      "text/plain": [
       "    age  sex   cp  trestbps  chol  fbs  restecg  thalach  exang  oldpeak  \\\n",
       "0  58.0  1.0  0.0     120.0   197  0.0      1.0    162.0    0.0      0.0   \n",
       "1   NaN  NaN  NaN       NaN   204  NaN      NaN      NaN    NaN      NaN   \n",
       "2   NaN  NaN  NaN       NaN   234  NaN      NaN      NaN    NaN      NaN   \n",
       "\n",
       "   slope   ca  thal  target  \n",
       "0    2.0  0.0   2.0     1.0  \n",
       "1    NaN  NaN   NaN     NaN  \n",
       "2    NaN  NaN   NaN     NaN  "
      ]
     },
     "execution_count": 12,
     "metadata": {},
     "output_type": "execute_result"
    }
   ],
   "source": [
    "health.mode()"
   ]
  },
  {
   "cell_type": "code",
   "execution_count": 13,
   "id": "7397d9c3",
   "metadata": {},
   "outputs": [
    {
     "data": {
      "text/plain": [
       "age           81.865757\n",
       "sex            0.217553\n",
       "cp             1.065114\n",
       "trestbps     308.472817\n",
       "chol        2678.423588\n",
       "fbs            0.127225\n",
       "restecg        0.276705\n",
       "thalach      524.571561\n",
       "exang          0.221084\n",
       "oldpeak        1.348971\n",
       "slope          0.379794\n",
       "ca             1.013542\n",
       "thal           0.375800\n",
       "target         0.248971\n",
       "dtype: float64"
      ]
     },
     "execution_count": 13,
     "metadata": {},
     "output_type": "execute_result"
    }
   ],
   "source": [
    "health.var()"
   ]
  },
  {
   "cell_type": "code",
   "execution_count": 14,
   "id": "cb64e0fc",
   "metadata": {},
   "outputs": [
    {
     "data": {
      "text/plain": [
       "age        -0.527512\n",
       "sex        -1.391273\n",
       "cp         -1.183729\n",
       "trestbps    0.922996\n",
       "chol        4.542591\n",
       "fbs         1.937947\n",
       "restecg    -1.359464\n",
       "thalach    -0.062186\n",
       "exang      -1.466170\n",
       "oldpeak     1.567876\n",
       "slope      -0.629935\n",
       "ca          0.781003\n",
       "thal        0.295855\n",
       "target     -1.983008\n",
       "dtype: float64"
      ]
     },
     "execution_count": 14,
     "metadata": {},
     "output_type": "execute_result"
    }
   ],
   "source": [
    "health.kurtosis()"
   ]
  },
  {
   "cell_type": "code",
   "execution_count": 15,
   "id": "d408a0b7",
   "metadata": {},
   "outputs": [
    {
     "data": {
      "text/plain": [
       "<AxesSubplot:>"
      ]
     },
     "execution_count": 15,
     "metadata": {},
     "output_type": "execute_result"
    },
    {
     "data": {
      "image/png": "[encoded data removed]",
      "text/plain": [
       "<Figure size 1080x720 with 1 Axes>"
      ]
     },
     "metadata": {
      "needs_background": "light"
     },
     "output_type": "display_data"
    }
   ],
   "source": [
    "health.plot(kind = 'box', figsize=(15,10))"
   ]
  },
  {
   "cell_type": "markdown",
   "id": "a5c78223",
   "metadata": {},
   "source": [
    "### 2(b) Describe categorical variables"
   ]
  },
  {
   "cell_type": "code",
   "execution_count": 16,
   "id": "e276ddb3",
   "metadata": {},
   "outputs": [
    {
     "data": {
      "image/png": "[encoded data removed]",
      "text/plain": [
       "<Figure size 1080x1440 with 8 Axes>"
      ]
     },
     "metadata": {
      "needs_background": "light"
     },
     "output_type": "display_data"
    }
   ],
   "source": [
    "fig = plt.figure(figsize = (15,20))\n",
    "ax1 = fig.add_subplot(441); ax1.title.set_text('Sex');  \n",
    "health.sex.value_counts(normalize=True).plot(kind='bar', color = ['C0','C1']); plt.xticks(rotation=0);\n",
    "ax2 = fig.add_subplot(442); ax2.title.set_text('Chest Pain'); \n",
    "health.cp.value_counts(normalize=True).plot(kind='bar', color = ['r','b','y','g']); plt.xticks(rotation=0)\n",
    "ax3 = fig.add_subplot(443); ax3.title.set_text('Fasting Blood Sugar');  \n",
    "health.fbs.value_counts(normalize=True).plot(kind='bar', color = ['b','g']); plt.xticks(rotation=0)\n",
    "ax4 = fig.add_subplot(444); ax4.title.set_text('Resting ECG'); \n",
    "health.restecg.value_counts(normalize=True).plot(kind='bar', color = ['C0','C1','C2']); plt.xticks(rotation=0)\n",
    "ax5 = fig.add_subplot(445); ax5.title.set_text('Exercise Induced Angina'); \n",
    "health.exang.value_counts(normalize=True).plot(kind='bar', color = ['r','y']); plt.xticks(rotation=0)\n",
    "ax6 = fig.add_subplot(446); ax6.title.set_text('Slope of Peak Exercise ST'); \n",
    "health.slope.value_counts(normalize=True).plot(kind='bar', color = ['C4','C5','C6']); plt.xticks(rotation=0)\n",
    "ax7 = fig.add_subplot(447); ax7.title.set_text('CA'); \n",
    "health.ca.value_counts(normalize=True).plot(kind='bar', color = ['C4','C5','C6','C7','C8']); plt.xticks(rotation=0)\n",
    "ax8 = fig.add_subplot(448); ax8.title.set_text('Thalessma'); \n",
    "health.thal.value_counts(normalize=True).plot(kind='bar', color = ['C2','C4','C6','C8']); plt.xticks(rotation=0)\n",
    "\n",
    "plt.show()"
   ]
  },
  {
   "cell_type": "markdown",
   "id": "f9560f9d",
   "metadata": {},
   "source": [
    "### 2(c) Occurrence of CVD across the Age category"
   ]
  },
  {
   "cell_type": "code",
   "execution_count": 17,
   "id": "fafdbf18",
   "metadata": {},
   "outputs": [],
   "source": [
    "bins = [0,40,60,80]\n",
    "labels = ['0-40','40-60','60-80']\n",
    "health['AgeCategory']=pd.cut(health['age'],bins = bins, labels = labels, right = False)"
   ]
  },
  {
   "cell_type": "code",
   "execution_count": 18,
   "id": "690f9258",
   "metadata": {},
   "outputs": [
    {
     "data": {
      "text/html": [
       "<div>\n",
       "<style scoped>\n",
       "    .dataframe tbody tr th:only-of-type {\n",
       "        vertical-align: middle;\n",
       "    }\n",
       "\n",
       "    .dataframe tbody tr th {\n",
       "        vertical-align: top;\n",
       "    }\n",
       "\n",
       "    .dataframe thead th {\n",
       "        text-align: right;\n",
       "    }\n",
       "</style>\n",
       "<table border=\"1\" class=\"dataframe\">\n",
       "  <thead>\n",
       "    <tr style=\"text-align: right;\">\n",
       "      <th></th>\n",
       "      <th>age</th>\n",
       "      <th>sex</th>\n",
       "      <th>cp</th>\n",
       "      <th>trestbps</th>\n",
       "      <th>chol</th>\n",
       "      <th>fbs</th>\n",
       "      <th>restecg</th>\n",
       "      <th>thalach</th>\n",
       "      <th>exang</th>\n",
       "      <th>oldpeak</th>\n",
       "      <th>slope</th>\n",
       "      <th>ca</th>\n",
       "      <th>thal</th>\n",
       "      <th>target</th>\n",
       "      <th>AgeCategory</th>\n",
       "    </tr>\n",
       "  </thead>\n",
       "  <tbody>\n",
       "    <tr>\n",
       "      <th>0</th>\n",
       "      <td>63</td>\n",
       "      <td>1</td>\n",
       "      <td>3</td>\n",
       "      <td>145</td>\n",
       "      <td>233</td>\n",
       "      <td>1</td>\n",
       "      <td>0</td>\n",
       "      <td>150</td>\n",
       "      <td>0</td>\n",
       "      <td>2.3</td>\n",
       "      <td>0</td>\n",
       "      <td>0</td>\n",
       "      <td>1</td>\n",
       "      <td>1</td>\n",
       "      <td>60-80</td>\n",
       "    </tr>\n",
       "    <tr>\n",
       "      <th>1</th>\n",
       "      <td>37</td>\n",
       "      <td>1</td>\n",
       "      <td>2</td>\n",
       "      <td>130</td>\n",
       "      <td>250</td>\n",
       "      <td>0</td>\n",
       "      <td>1</td>\n",
       "      <td>187</td>\n",
       "      <td>0</td>\n",
       "      <td>3.5</td>\n",
       "      <td>0</td>\n",
       "      <td>0</td>\n",
       "      <td>2</td>\n",
       "      <td>1</td>\n",
       "      <td>0-40</td>\n",
       "    </tr>\n",
       "    <tr>\n",
       "      <th>2</th>\n",
       "      <td>41</td>\n",
       "      <td>0</td>\n",
       "      <td>1</td>\n",
       "      <td>130</td>\n",
       "      <td>204</td>\n",
       "      <td>0</td>\n",
       "      <td>0</td>\n",
       "      <td>172</td>\n",
       "      <td>0</td>\n",
       "      <td>1.4</td>\n",
       "      <td>2</td>\n",
       "      <td>0</td>\n",
       "      <td>2</td>\n",
       "      <td>1</td>\n",
       "      <td>40-60</td>\n",
       "    </tr>\n",
       "    <tr>\n",
       "      <th>3</th>\n",
       "      <td>56</td>\n",
       "      <td>1</td>\n",
       "      <td>1</td>\n",
       "      <td>120</td>\n",
       "      <td>236</td>\n",
       "      <td>0</td>\n",
       "      <td>1</td>\n",
       "      <td>178</td>\n",
       "      <td>0</td>\n",
       "      <td>0.8</td>\n",
       "      <td>2</td>\n",
       "      <td>0</td>\n",
       "      <td>2</td>\n",
       "      <td>1</td>\n",
       "      <td>40-60</td>\n",
       "    </tr>\n",
       "    <tr>\n",
       "      <th>4</th>\n",
       "      <td>57</td>\n",
       "      <td>0</td>\n",
       "      <td>0</td>\n",
       "      <td>120</td>\n",
       "      <td>354</td>\n",
       "      <td>0</td>\n",
       "      <td>1</td>\n",
       "      <td>163</td>\n",
       "      <td>1</td>\n",
       "      <td>0.6</td>\n",
       "      <td>2</td>\n",
       "      <td>0</td>\n",
       "      <td>2</td>\n",
       "      <td>1</td>\n",
       "      <td>40-60</td>\n",
       "    </tr>\n",
       "  </tbody>\n",
       "</table>\n",
       "</div>"
      ],
      "text/plain": [
       "   age  sex  cp  trestbps  chol  fbs  restecg  thalach  exang  oldpeak  slope  \\\n",
       "0   63    1   3       145   233    1        0      150      0      2.3      0   \n",
       "1   37    1   2       130   250    0        1      187      0      3.5      0   \n",
       "2   41    0   1       130   204    0        0      172      0      1.4      2   \n",
       "3   56    1   1       120   236    0        1      178      0      0.8      2   \n",
       "4   57    0   0       120   354    0        1      163      1      0.6      2   \n",
       "\n",
       "   ca  thal  target AgeCategory  \n",
       "0   0     1       1       60-80  \n",
       "1   0     2       1        0-40  \n",
       "2   0     2       1       40-60  \n",
       "3   0     2       1       40-60  \n",
       "4   0     2       1       40-60  "
      ]
     },
     "execution_count": 18,
     "metadata": {},
     "output_type": "execute_result"
    }
   ],
   "source": [
    "health.head()"
   ]
  },
  {
   "cell_type": "code",
   "execution_count": 19,
   "id": "41d341a9",
   "metadata": {},
   "outputs": [
    {
     "data": {
      "text/html": [
       "<div>\n",
       "<style scoped>\n",
       "    .dataframe tbody tr th:only-of-type {\n",
       "        vertical-align: middle;\n",
       "    }\n",
       "\n",
       "    .dataframe tbody tr th {\n",
       "        vertical-align: top;\n",
       "    }\n",
       "\n",
       "    .dataframe thead th {\n",
       "        text-align: right;\n",
       "    }\n",
       "</style>\n",
       "<table border=\"1\" class=\"dataframe\">\n",
       "  <thead>\n",
       "    <tr style=\"text-align: right;\">\n",
       "      <th></th>\n",
       "      <th></th>\n",
       "      <th>age</th>\n",
       "    </tr>\n",
       "    <tr>\n",
       "      <th>AgeCategory</th>\n",
       "      <th>target</th>\n",
       "      <th></th>\n",
       "    </tr>\n",
       "  </thead>\n",
       "  <tbody>\n",
       "    <tr>\n",
       "      <th rowspan=\"2\" valign=\"top\">0-40</th>\n",
       "      <th>0</th>\n",
       "      <td>4</td>\n",
       "    </tr>\n",
       "    <tr>\n",
       "      <th>1</th>\n",
       "      <td>11</td>\n",
       "    </tr>\n",
       "    <tr>\n",
       "      <th rowspan=\"2\" valign=\"top\">40-60</th>\n",
       "      <th>0</th>\n",
       "      <td>82</td>\n",
       "    </tr>\n",
       "    <tr>\n",
       "      <th>1</th>\n",
       "      <td>115</td>\n",
       "    </tr>\n",
       "    <tr>\n",
       "      <th rowspan=\"2\" valign=\"top\">60-80</th>\n",
       "      <th>0</th>\n",
       "      <td>52</td>\n",
       "    </tr>\n",
       "    <tr>\n",
       "      <th>1</th>\n",
       "      <td>38</td>\n",
       "    </tr>\n",
       "  </tbody>\n",
       "</table>\n",
       "</div>"
      ],
      "text/plain": [
       "                    age\n",
       "AgeCategory target     \n",
       "0-40        0         4\n",
       "            1        11\n",
       "40-60       0        82\n",
       "            1       115\n",
       "60-80       0        52\n",
       "            1        38"
      ]
     },
     "execution_count": 19,
     "metadata": {},
     "output_type": "execute_result"
    }
   ],
   "source": [
    "health.groupby(['AgeCategory','target']).count()['age'].to_frame()"
   ]
  },
  {
   "cell_type": "code",
   "execution_count": 20,
   "id": "bf709d6e",
   "metadata": {},
   "outputs": [
    {
     "data": {
      "image/png": "[encoded data removed]",
      "text/plain": [
       "<Figure size 576x360 with 1 Axes>"
      ]
     },
     "metadata": {
      "needs_background": "light"
     },
     "output_type": "display_data"
    }
   ],
   "source": [
    "label_agecat = np.array([0,1,2])\n",
    "label_agecat2 = ['0-40', '40-60','60-80']\n",
    "\n",
    "ax = pd.crosstab(health.AgeCategory, health.target).plot(kind='bar', figsize=(8, 5));\n",
    "plt.xticks(label_agecat, label_agecat2, rotation=0);"
   ]
  },
  {
   "cell_type": "code",
   "execution_count": null,
   "id": "c0e6f68d",
   "metadata": {},
   "outputs": [],
   "source": [
    "# The age category 40-60 was more prone to CVD as compared to other age groups."
   ]
  },
  {
   "cell_type": "markdown",
   "id": "f7391cd9",
   "metadata": {},
   "source": [
    "### 2(d) Composition of all patients with respect to Sex category"
   ]
  },
  {
   "cell_type": "code",
   "execution_count": 21,
   "id": "10b734cd",
   "metadata": {},
   "outputs": [
    {
     "data": {
      "text/html": [
       "<div>\n",
       "<style scoped>\n",
       "    .dataframe tbody tr th:only-of-type {\n",
       "        vertical-align: middle;\n",
       "    }\n",
       "\n",
       "    .dataframe tbody tr th {\n",
       "        vertical-align: top;\n",
       "    }\n",
       "\n",
       "    .dataframe thead th {\n",
       "        text-align: right;\n",
       "    }\n",
       "</style>\n",
       "<table border=\"1\" class=\"dataframe\">\n",
       "  <thead>\n",
       "    <tr style=\"text-align: right;\">\n",
       "      <th></th>\n",
       "      <th></th>\n",
       "      <th>age</th>\n",
       "    </tr>\n",
       "    <tr>\n",
       "      <th>sex</th>\n",
       "      <th>target</th>\n",
       "      <th></th>\n",
       "    </tr>\n",
       "  </thead>\n",
       "  <tbody>\n",
       "    <tr>\n",
       "      <th rowspan=\"2\" valign=\"top\">0</th>\n",
       "      <th>0</th>\n",
       "      <td>24</td>\n",
       "    </tr>\n",
       "    <tr>\n",
       "      <th>1</th>\n",
       "      <td>72</td>\n",
       "    </tr>\n",
       "    <tr>\n",
       "      <th rowspan=\"2\" valign=\"top\">1</th>\n",
       "      <th>0</th>\n",
       "      <td>114</td>\n",
       "    </tr>\n",
       "    <tr>\n",
       "      <th>1</th>\n",
       "      <td>92</td>\n",
       "    </tr>\n",
       "  </tbody>\n",
       "</table>\n",
       "</div>"
      ],
      "text/plain": [
       "            age\n",
       "sex target     \n",
       "0   0        24\n",
       "    1        72\n",
       "1   0       114\n",
       "    1        92"
      ]
     },
     "execution_count": 21,
     "metadata": {},
     "output_type": "execute_result"
    }
   ],
   "source": [
    "health.groupby(['sex','target']).count()['age'].to_frame()"
   ]
  },
  {
   "cell_type": "code",
   "execution_count": 22,
   "id": "514452ae",
   "metadata": {},
   "outputs": [
    {
     "data": {
      "image/png": "[encoded data removed]",
      "text/plain": [
       "<Figure size 576x360 with 1 Axes>"
      ]
     },
     "metadata": {
      "needs_background": "light"
     },
     "output_type": "display_data"
    }
   ],
   "source": [
    "label_sexcat = np.array([0,1])\n",
    "label_sexcat2 = ['Male', 'Female']\n",
    "\n",
    "ax = pd.crosstab(health.sex, health.target).plot(kind='bar', figsize=(8, 5), color = ('g','r'), alpha = 0.5);\n",
    "plt.xticks(label_sexcat, label_sexcat2, rotation=0);"
   ]
  },
  {
   "cell_type": "code",
   "execution_count": null,
   "id": "adaa8da3",
   "metadata": {},
   "outputs": [],
   "source": [
    "# Females were more prone to CVD as compared to Males."
   ]
  },
  {
   "cell_type": "markdown",
   "id": "f8b38ac6",
   "metadata": {},
   "source": [
    "### 2(e)\tDetect heart attacks based on anomalies in the resting blood pressure of a patient"
   ]
  },
  {
   "cell_type": "code",
   "execution_count": 23,
   "id": "131149eb",
   "metadata": {},
   "outputs": [],
   "source": [
    "Q1, Q3 = health['trestbps'].quantile([0.25,0.75])\n",
    "IQR = Q3-Q1\n",
    "lower_range = Q1 - (1.5 * IQR)\n",
    "upper_range = Q3 + (1.5 * IQR)\n",
    "\n",
    "trestbps_out = health[(health['trestbps'] < lower_range) | (health['trestbps']> upper_range)]"
   ]
  },
  {
   "cell_type": "code",
   "execution_count": 24,
   "id": "7f272c55",
   "metadata": {},
   "outputs": [
    {
     "data": {
      "text/html": [
       "<div>\n",
       "<style scoped>\n",
       "    .dataframe tbody tr th:only-of-type {\n",
       "        vertical-align: middle;\n",
       "    }\n",
       "\n",
       "    .dataframe tbody tr th {\n",
       "        vertical-align: top;\n",
       "    }\n",
       "\n",
       "    .dataframe thead th {\n",
       "        text-align: right;\n",
       "    }\n",
       "</style>\n",
       "<table border=\"1\" class=\"dataframe\">\n",
       "  <thead>\n",
       "    <tr style=\"text-align: right;\">\n",
       "      <th></th>\n",
       "      <th>trestbps</th>\n",
       "      <th>target</th>\n",
       "    </tr>\n",
       "  </thead>\n",
       "  <tbody>\n",
       "    <tr>\n",
       "      <th>8</th>\n",
       "      <td>172</td>\n",
       "      <td>1</td>\n",
       "    </tr>\n",
       "    <tr>\n",
       "      <th>101</th>\n",
       "      <td>178</td>\n",
       "      <td>1</td>\n",
       "    </tr>\n",
       "    <tr>\n",
       "      <th>110</th>\n",
       "      <td>180</td>\n",
       "      <td>1</td>\n",
       "    </tr>\n",
       "    <tr>\n",
       "      <th>203</th>\n",
       "      <td>180</td>\n",
       "      <td>0</td>\n",
       "    </tr>\n",
       "    <tr>\n",
       "      <th>223</th>\n",
       "      <td>200</td>\n",
       "      <td>0</td>\n",
       "    </tr>\n",
       "    <tr>\n",
       "      <th>241</th>\n",
       "      <td>174</td>\n",
       "      <td>0</td>\n",
       "    </tr>\n",
       "    <tr>\n",
       "      <th>248</th>\n",
       "      <td>192</td>\n",
       "      <td>0</td>\n",
       "    </tr>\n",
       "    <tr>\n",
       "      <th>260</th>\n",
       "      <td>178</td>\n",
       "      <td>0</td>\n",
       "    </tr>\n",
       "    <tr>\n",
       "      <th>266</th>\n",
       "      <td>180</td>\n",
       "      <td>0</td>\n",
       "    </tr>\n",
       "  </tbody>\n",
       "</table>\n",
       "</div>"
      ],
      "text/plain": [
       "     trestbps  target\n",
       "8         172       1\n",
       "101       178       1\n",
       "110       180       1\n",
       "203       180       0\n",
       "223       200       0\n",
       "241       174       0\n",
       "248       192       0\n",
       "260       178       0\n",
       "266       180       0"
      ]
     },
     "execution_count": 24,
     "metadata": {},
     "output_type": "execute_result"
    }
   ],
   "source": [
    "trestbps_out[['trestbps','target']]"
   ]
  },
  {
   "cell_type": "code",
   "execution_count": 25,
   "id": "9914d54f",
   "metadata": {},
   "outputs": [],
   "source": [
    "# since amongst the outliers i.e. anomalies in resting blood pressure, at similar trestbps, \n",
    "# there are both cases of people having CVD and people not having CVD.\n",
    "# Hence, it is inconclusive to detect heart attacks only based on anomalies in resting blood pressure."
   ]
  },
  {
   "cell_type": "markdown",
   "id": "24e83e3c",
   "metadata": {},
   "source": [
    "### 2(f) Relationship between cholesterol levels and a target variable"
   ]
  },
  {
   "cell_type": "code",
   "execution_count": 26,
   "id": "253032f9",
   "metadata": {},
   "outputs": [],
   "source": [
    "bins = [125,200,240,300,375,600]\n",
    "labels = ['125-200','200-240','240-300','300-375','375-600']\n",
    "health['CholCategory']=pd.cut(health['chol'],bins = bins, labels = labels, right = False)"
   ]
  },
  {
   "cell_type": "code",
   "execution_count": 27,
   "id": "f4dca55d",
   "metadata": {},
   "outputs": [
    {
     "data": {
      "text/html": [
       "<div>\n",
       "<style scoped>\n",
       "    .dataframe tbody tr th:only-of-type {\n",
       "        vertical-align: middle;\n",
       "    }\n",
       "\n",
       "    .dataframe tbody tr th {\n",
       "        vertical-align: top;\n",
       "    }\n",
       "\n",
       "    .dataframe thead th {\n",
       "        text-align: right;\n",
       "    }\n",
       "</style>\n",
       "<table border=\"1\" class=\"dataframe\">\n",
       "  <thead>\n",
       "    <tr style=\"text-align: right;\">\n",
       "      <th></th>\n",
       "      <th>age</th>\n",
       "      <th>sex</th>\n",
       "      <th>cp</th>\n",
       "      <th>trestbps</th>\n",
       "      <th>chol</th>\n",
       "      <th>fbs</th>\n",
       "      <th>restecg</th>\n",
       "      <th>thalach</th>\n",
       "      <th>exang</th>\n",
       "      <th>oldpeak</th>\n",
       "      <th>slope</th>\n",
       "      <th>ca</th>\n",
       "      <th>thal</th>\n",
       "      <th>target</th>\n",
       "      <th>AgeCategory</th>\n",
       "      <th>CholCategory</th>\n",
       "    </tr>\n",
       "  </thead>\n",
       "  <tbody>\n",
       "    <tr>\n",
       "      <th>0</th>\n",
       "      <td>63</td>\n",
       "      <td>1</td>\n",
       "      <td>3</td>\n",
       "      <td>145</td>\n",
       "      <td>233</td>\n",
       "      <td>1</td>\n",
       "      <td>0</td>\n",
       "      <td>150</td>\n",
       "      <td>0</td>\n",
       "      <td>2.3</td>\n",
       "      <td>0</td>\n",
       "      <td>0</td>\n",
       "      <td>1</td>\n",
       "      <td>1</td>\n",
       "      <td>60-80</td>\n",
       "      <td>200-240</td>\n",
       "    </tr>\n",
       "    <tr>\n",
       "      <th>1</th>\n",
       "      <td>37</td>\n",
       "      <td>1</td>\n",
       "      <td>2</td>\n",
       "      <td>130</td>\n",
       "      <td>250</td>\n",
       "      <td>0</td>\n",
       "      <td>1</td>\n",
       "      <td>187</td>\n",
       "      <td>0</td>\n",
       "      <td>3.5</td>\n",
       "      <td>0</td>\n",
       "      <td>0</td>\n",
       "      <td>2</td>\n",
       "      <td>1</td>\n",
       "      <td>0-40</td>\n",
       "      <td>240-300</td>\n",
       "    </tr>\n",
       "    <tr>\n",
       "      <th>2</th>\n",
       "      <td>41</td>\n",
       "      <td>0</td>\n",
       "      <td>1</td>\n",
       "      <td>130</td>\n",
       "      <td>204</td>\n",
       "      <td>0</td>\n",
       "      <td>0</td>\n",
       "      <td>172</td>\n",
       "      <td>0</td>\n",
       "      <td>1.4</td>\n",
       "      <td>2</td>\n",
       "      <td>0</td>\n",
       "      <td>2</td>\n",
       "      <td>1</td>\n",
       "      <td>40-60</td>\n",
       "      <td>200-240</td>\n",
       "    </tr>\n",
       "    <tr>\n",
       "      <th>3</th>\n",
       "      <td>56</td>\n",
       "      <td>1</td>\n",
       "      <td>1</td>\n",
       "      <td>120</td>\n",
       "      <td>236</td>\n",
       "      <td>0</td>\n",
       "      <td>1</td>\n",
       "      <td>178</td>\n",
       "      <td>0</td>\n",
       "      <td>0.8</td>\n",
       "      <td>2</td>\n",
       "      <td>0</td>\n",
       "      <td>2</td>\n",
       "      <td>1</td>\n",
       "      <td>40-60</td>\n",
       "      <td>200-240</td>\n",
       "    </tr>\n",
       "    <tr>\n",
       "      <th>4</th>\n",
       "      <td>57</td>\n",
       "      <td>0</td>\n",
       "      <td>0</td>\n",
       "      <td>120</td>\n",
       "      <td>354</td>\n",
       "      <td>0</td>\n",
       "      <td>1</td>\n",
       "      <td>163</td>\n",
       "      <td>1</td>\n",
       "      <td>0.6</td>\n",
       "      <td>2</td>\n",
       "      <td>0</td>\n",
       "      <td>2</td>\n",
       "      <td>1</td>\n",
       "      <td>40-60</td>\n",
       "      <td>300-375</td>\n",
       "    </tr>\n",
       "  </tbody>\n",
       "</table>\n",
       "</div>"
      ],
      "text/plain": [
       "   age  sex  cp  trestbps  chol  fbs  restecg  thalach  exang  oldpeak  slope  \\\n",
       "0   63    1   3       145   233    1        0      150      0      2.3      0   \n",
       "1   37    1   2       130   250    0        1      187      0      3.5      0   \n",
       "2   41    0   1       130   204    0        0      172      0      1.4      2   \n",
       "3   56    1   1       120   236    0        1      178      0      0.8      2   \n",
       "4   57    0   0       120   354    0        1      163      1      0.6      2   \n",
       "\n",
       "   ca  thal  target AgeCategory CholCategory  \n",
       "0   0     1       1       60-80      200-240  \n",
       "1   0     2       1        0-40      240-300  \n",
       "2   0     2       1       40-60      200-240  \n",
       "3   0     2       1       40-60      200-240  \n",
       "4   0     2       1       40-60      300-375  "
      ]
     },
     "execution_count": 27,
     "metadata": {},
     "output_type": "execute_result"
    }
   ],
   "source": [
    "health.head()"
   ]
  },
  {
   "cell_type": "code",
   "execution_count": 28,
   "id": "c34e362f",
   "metadata": {},
   "outputs": [
    {
     "data": {
      "text/html": [
       "<div>\n",
       "<style scoped>\n",
       "    .dataframe tbody tr th:only-of-type {\n",
       "        vertical-align: middle;\n",
       "    }\n",
       "\n",
       "    .dataframe tbody tr th {\n",
       "        vertical-align: top;\n",
       "    }\n",
       "\n",
       "    .dataframe thead th {\n",
       "        text-align: right;\n",
       "    }\n",
       "</style>\n",
       "<table border=\"1\" class=\"dataframe\">\n",
       "  <thead>\n",
       "    <tr style=\"text-align: right;\">\n",
       "      <th></th>\n",
       "      <th></th>\n",
       "      <th>age</th>\n",
       "    </tr>\n",
       "    <tr>\n",
       "      <th>CholCategory</th>\n",
       "      <th>target</th>\n",
       "      <th></th>\n",
       "    </tr>\n",
       "  </thead>\n",
       "  <tbody>\n",
       "    <tr>\n",
       "      <th rowspan=\"2\" valign=\"top\">125-200</th>\n",
       "      <th>0</th>\n",
       "      <td>20</td>\n",
       "    </tr>\n",
       "    <tr>\n",
       "      <th>1</th>\n",
       "      <td>29</td>\n",
       "    </tr>\n",
       "    <tr>\n",
       "      <th rowspan=\"2\" valign=\"top\">200-240</th>\n",
       "      <th>0</th>\n",
       "      <td>39</td>\n",
       "    </tr>\n",
       "    <tr>\n",
       "      <th>1</th>\n",
       "      <td>59</td>\n",
       "    </tr>\n",
       "    <tr>\n",
       "      <th rowspan=\"2\" valign=\"top\">240-300</th>\n",
       "      <th>0</th>\n",
       "      <td>58</td>\n",
       "    </tr>\n",
       "    <tr>\n",
       "      <th>1</th>\n",
       "      <td>53</td>\n",
       "    </tr>\n",
       "    <tr>\n",
       "      <th rowspan=\"2\" valign=\"top\">300-375</th>\n",
       "      <th>0</th>\n",
       "      <td>19</td>\n",
       "    </tr>\n",
       "    <tr>\n",
       "      <th>1</th>\n",
       "      <td>20</td>\n",
       "    </tr>\n",
       "    <tr>\n",
       "      <th rowspan=\"2\" valign=\"top\">375-600</th>\n",
       "      <th>0</th>\n",
       "      <td>2</td>\n",
       "    </tr>\n",
       "    <tr>\n",
       "      <th>1</th>\n",
       "      <td>3</td>\n",
       "    </tr>\n",
       "  </tbody>\n",
       "</table>\n",
       "</div>"
      ],
      "text/plain": [
       "                     age\n",
       "CholCategory target     \n",
       "125-200      0        20\n",
       "             1        29\n",
       "200-240      0        39\n",
       "             1        59\n",
       "240-300      0        58\n",
       "             1        53\n",
       "300-375      0        19\n",
       "             1        20\n",
       "375-600      0         2\n",
       "             1         3"
      ]
     },
     "execution_count": 28,
     "metadata": {},
     "output_type": "execute_result"
    }
   ],
   "source": [
    "health.groupby(['CholCategory','target']).count()['age'].to_frame()"
   ]
  },
  {
   "cell_type": "code",
   "execution_count": 29,
   "id": "780c8117",
   "metadata": {},
   "outputs": [
    {
     "data": {
      "image/png": "[encoded data removed]",
      "text/plain": [
       "<Figure size 576x360 with 1 Axes>"
      ]
     },
     "metadata": {
      "needs_background": "light"
     },
     "output_type": "display_data"
    }
   ],
   "source": [
    "label_cholcat = np.array([0,1,2,3,4])\n",
    "label_cholcat2 = ['125-200', '200-240','240-300','300-375', '375-600']\n",
    "\n",
    "ax = pd.crosstab(health.CholCategory, health.target).plot(kind='bar', figsize=(8, 5), color = ('red','orange'), alpha = 0.5);\n",
    "plt.xticks(label_cholcat, label_cholcat2, rotation=0);"
   ]
  },
  {
   "cell_type": "code",
   "execution_count": 30,
   "id": "56fd6b42",
   "metadata": {},
   "outputs": [
    {
     "name": "stdout",
     "output_type": "stream",
     "text": [
      "63.75\n",
      "115.375\n",
      "370.375\n"
     ]
    }
   ],
   "source": [
    "Q1, Q3 = health['chol'].quantile([0.25,0.75])\n",
    "IQR = Q3-Q1\n",
    "lower_range = Q1 - (1.5 * IQR)\n",
    "upper_range = Q3 + (1.5 * IQR)\n",
    "\n",
    "print(IQR)\n",
    "print(lower_range)\n",
    "print(upper_range)\n",
    "chol_out = health[(health['chol'] < lower_range) | (health['chol']> upper_range)]"
   ]
  },
  {
   "cell_type": "code",
   "execution_count": 31,
   "id": "67876db8",
   "metadata": {},
   "outputs": [
    {
     "data": {
      "text/html": [
       "<div>\n",
       "<style scoped>\n",
       "    .dataframe tbody tr th:only-of-type {\n",
       "        vertical-align: middle;\n",
       "    }\n",
       "\n",
       "    .dataframe tbody tr th {\n",
       "        vertical-align: top;\n",
       "    }\n",
       "\n",
       "    .dataframe thead th {\n",
       "        text-align: right;\n",
       "    }\n",
       "</style>\n",
       "<table border=\"1\" class=\"dataframe\">\n",
       "  <thead>\n",
       "    <tr style=\"text-align: right;\">\n",
       "      <th></th>\n",
       "      <th>chol</th>\n",
       "      <th>target</th>\n",
       "    </tr>\n",
       "  </thead>\n",
       "  <tbody>\n",
       "    <tr>\n",
       "      <th>28</th>\n",
       "      <td>417</td>\n",
       "      <td>1</td>\n",
       "    </tr>\n",
       "    <tr>\n",
       "      <th>85</th>\n",
       "      <td>564</td>\n",
       "      <td>1</td>\n",
       "    </tr>\n",
       "    <tr>\n",
       "      <th>96</th>\n",
       "      <td>394</td>\n",
       "      <td>1</td>\n",
       "    </tr>\n",
       "    <tr>\n",
       "      <th>220</th>\n",
       "      <td>407</td>\n",
       "      <td>0</td>\n",
       "    </tr>\n",
       "    <tr>\n",
       "      <th>246</th>\n",
       "      <td>409</td>\n",
       "      <td>0</td>\n",
       "    </tr>\n",
       "  </tbody>\n",
       "</table>\n",
       "</div>"
      ],
      "text/plain": [
       "     chol  target\n",
       "28    417       1\n",
       "85    564       1\n",
       "96    394       1\n",
       "220   407       0\n",
       "246   409       0"
      ]
     },
     "execution_count": 31,
     "metadata": {},
     "output_type": "execute_result"
    }
   ],
   "source": [
    "chol_out[['chol','target']]"
   ]
  },
  {
   "cell_type": "code",
   "execution_count": null,
   "id": "33bb35d2",
   "metadata": {},
   "outputs": [],
   "source": [
    "# People having cholestrol levels between 200 to 300 were more prone to having CVD.\n",
    "# since amongst the outliers i.e. people having very high cholestrol levels, there are both cases of people having CVD and people not having CVD.\n",
    "# Hence, it is inconclusive to detect heart attacks only based on very high cholestrol levels."
   ]
  },
  {
   "cell_type": "markdown",
   "id": "5dce2c03",
   "metadata": {},
   "source": [
    "### 2(g) Relationship between peak exercising and the occurrence of a heart attack"
   ]
  },
  {
   "cell_type": "code",
   "execution_count": 32,
   "id": "c516750e",
   "metadata": {},
   "outputs": [
    {
     "data": {
      "text/plain": [
       "0.34"
      ]
     },
     "execution_count": 32,
     "metadata": {},
     "output_type": "execute_result"
    }
   ],
   "source": [
    "health.target.corr(health.slope).round(2)"
   ]
  },
  {
   "cell_type": "code",
   "execution_count": 33,
   "id": "4e4b5794",
   "metadata": {},
   "outputs": [
    {
     "data": {
      "text/plain": [
       "<AxesSubplot:xlabel='slope', ylabel='Density'>"
      ]
     },
     "execution_count": 33,
     "metadata": {},
     "output_type": "execute_result"
    },
    {
     "data": {
      "image/png": "[encoded data removed]",
      "text/plain": [
       "<Figure size 432x288 with 1 Axes>"
      ]
     },
     "metadata": {
      "needs_background": "light"
     },
     "output_type": "display_data"
    }
   ],
   "source": [
    "sns.kdeplot(health['slope'],hue=health['target'],shade = True)"
   ]
  },
  {
   "cell_type": "code",
   "execution_count": 34,
   "id": "9e333f15",
   "metadata": {},
   "outputs": [
    {
     "data": {
      "image/png": "[encoded data removed]",
      "text/plain": [
       "<Figure size 432x288 with 1 Axes>"
      ]
     },
     "metadata": {
      "needs_background": "light"
     },
     "output_type": "display_data"
    }
   ],
   "source": [
    "sns.countplot(data= health, x='slope',hue='target')\n",
    "plt.title('Slope v/s Target\\n');"
   ]
  },
  {
   "cell_type": "code",
   "execution_count": null,
   "id": "1b32db20",
   "metadata": {},
   "outputs": [],
   "source": [
    "# People with slope = 2 i.e. peak exercise ST segment were more prone to having CVD."
   ]
  },
  {
   "cell_type": "markdown",
   "id": "339017fe",
   "metadata": {},
   "source": [
    "### 2(h)\tWhether Thalassemia is a major cause of CVD"
   ]
  },
  {
   "cell_type": "code",
   "execution_count": 35,
   "id": "c7ce65da",
   "metadata": {},
   "outputs": [
    {
     "data": {
      "text/html": [
       "<div>\n",
       "<style scoped>\n",
       "    .dataframe tbody tr th:only-of-type {\n",
       "        vertical-align: middle;\n",
       "    }\n",
       "\n",
       "    .dataframe tbody tr th {\n",
       "        vertical-align: top;\n",
       "    }\n",
       "\n",
       "    .dataframe thead th {\n",
       "        text-align: right;\n",
       "    }\n",
       "</style>\n",
       "<table border=\"1\" class=\"dataframe\">\n",
       "  <thead>\n",
       "    <tr style=\"text-align: right;\">\n",
       "      <th>target</th>\n",
       "      <th>0</th>\n",
       "      <th>1</th>\n",
       "    </tr>\n",
       "    <tr>\n",
       "      <th>thal</th>\n",
       "      <th></th>\n",
       "      <th></th>\n",
       "    </tr>\n",
       "  </thead>\n",
       "  <tbody>\n",
       "    <tr>\n",
       "      <th>0</th>\n",
       "      <td>1</td>\n",
       "      <td>1</td>\n",
       "    </tr>\n",
       "    <tr>\n",
       "      <th>1</th>\n",
       "      <td>12</td>\n",
       "      <td>6</td>\n",
       "    </tr>\n",
       "    <tr>\n",
       "      <th>2</th>\n",
       "      <td>36</td>\n",
       "      <td>129</td>\n",
       "    </tr>\n",
       "    <tr>\n",
       "      <th>3</th>\n",
       "      <td>89</td>\n",
       "      <td>28</td>\n",
       "    </tr>\n",
       "  </tbody>\n",
       "</table>\n",
       "</div>"
      ],
      "text/plain": [
       "target   0    1\n",
       "thal           \n",
       "0        1    1\n",
       "1       12    6\n",
       "2       36  129\n",
       "3       89   28"
      ]
     },
     "execution_count": 35,
     "metadata": {},
     "output_type": "execute_result"
    }
   ],
   "source": [
    "pd.crosstab(health.thal,health.target)"
   ]
  },
  {
   "cell_type": "code",
   "execution_count": 36,
   "id": "b71eac80",
   "metadata": {},
   "outputs": [
    {
     "data": {
      "text/plain": [
       "<AxesSubplot:xlabel='thal', ylabel='Density'>"
      ]
     },
     "execution_count": 36,
     "metadata": {},
     "output_type": "execute_result"
    },
    {
     "data": {
      "image/png": "[encoded data removed]",
      "text/plain": [
       "<Figure size 432x288 with 1 Axes>"
      ]
     },
     "metadata": {
      "needs_background": "light"
     },
     "output_type": "display_data"
    }
   ],
   "source": [
    "sns.kdeplot(health['thal'],hue=health['target'],shade = True)"
   ]
  },
  {
   "cell_type": "code",
   "execution_count": 37,
   "id": "624fcd3e",
   "metadata": {},
   "outputs": [
    {
     "data": {
      "text/plain": [
       "<AxesSubplot:xlabel='target', ylabel='count'>"
      ]
     },
     "execution_count": 37,
     "metadata": {},
     "output_type": "execute_result"
    },
    {
     "data": {
      "image/png": "[encoded data removed]",
      "text/plain": [
       "<Figure size 432x288 with 1 Axes>"
      ]
     },
     "metadata": {
      "needs_background": "light"
     },
     "output_type": "display_data"
    }
   ],
   "source": [
    "sns.countplot(data= health, x='target',hue='thal', alpha = 0.75)"
   ]
  },
  {
   "cell_type": "code",
   "execution_count": 38,
   "id": "0ded0d7b",
   "metadata": {},
   "outputs": [
    {
     "data": {
      "text/plain": [
       "-0.34"
      ]
     },
     "execution_count": 38,
     "metadata": {},
     "output_type": "execute_result"
    }
   ],
   "source": [
    "health.target.corr(health.thal).round(2)"
   ]
  },
  {
   "cell_type": "code",
   "execution_count": null,
   "id": "2d7010dd",
   "metadata": {},
   "outputs": [],
   "source": [
    "# W.r.t. Thalesima, people with thal = 2 were more prone to having CVD."
   ]
  },
  {
   "cell_type": "markdown",
   "id": "eb408fc6",
   "metadata": {},
   "source": [
    "### 2(i)\tList how the other factors determine the occurrence of CVD"
   ]
  },
  {
   "cell_type": "code",
   "execution_count": 39,
   "id": "dd184eb3",
   "metadata": {},
   "outputs": [
    {
     "data": {
      "image/png": "[encoded data removed]",
      "text/plain": [
       "<Figure size 432x288 with 1 Axes>"
      ]
     },
     "metadata": {
      "needs_background": "light"
     },
     "output_type": "display_data"
    }
   ],
   "source": [
    "health.corr()['target'].sort_values().drop('target').plot(kind = 'bar', color=\"red\");"
   ]
  },
  {
   "cell_type": "markdown",
   "id": "babfc918",
   "metadata": {},
   "source": [
    "### 2 (j) Pair plot"
   ]
  },
  {
   "cell_type": "code",
   "execution_count": 40,
   "id": "de5b69c1",
   "metadata": {},
   "outputs": [
    {
     "data": {
      "text/plain": [
       "Index(['age', 'sex', 'cp', 'trestbps', 'chol', 'fbs', 'restecg', 'thalach',\n",
       "       'exang', 'oldpeak', 'slope', 'ca', 'thal', 'target', 'AgeCategory',\n",
       "       'CholCategory'],\n",
       "      dtype='object')"
      ]
     },
     "execution_count": 40,
     "metadata": {},
     "output_type": "execute_result"
    }
   ],
   "source": [
    "health.columns"
   ]
  },
  {
   "cell_type": "code",
   "execution_count": 41,
   "id": "bb954bc6",
   "metadata": {},
   "outputs": [
    {
     "data": {
      "text/plain": [
       "<seaborn.axisgrid.PairGrid at 0x2ca408d5df0>"
      ]
     },
     "execution_count": 41,
     "metadata": {},
     "output_type": "execute_result"
    },
    {
     "data": {
      "image/png": "[encoded data removed]",
      "text/plain": [
       "<Figure size 1800x1800 with 110 Axes>"
      ]
     },
     "metadata": {
      "needs_background": "light"
     },
     "output_type": "display_data"
    }
   ],
   "source": [
    "# considering too many variables, have selected important columns for the pairplot.\n",
    "\n",
    "sns.pairplot(health,vars = ['age', 'sex', 'cp', 'trestbps', 'chol', 'fbs', 'restecg', 'exang','thal', 'target'])"
   ]
  },
  {
   "cell_type": "markdown",
   "id": "20028ce5",
   "metadata": {},
   "source": [
    "### 3. Baseline model using Logistic Regression"
   ]
  },
  {
   "cell_type": "code",
   "execution_count": 42,
   "id": "18e7a8d3",
   "metadata": {},
   "outputs": [],
   "source": [
    "x = health.drop(['target','AgeCategory','CholCategory'], axis = 1)"
   ]
  },
  {
   "cell_type": "code",
   "execution_count": 43,
   "id": "a5e85456",
   "metadata": {},
   "outputs": [],
   "source": [
    "y = health['target']"
   ]
  },
  {
   "cell_type": "code",
   "execution_count": 44,
   "id": "4cbeb076",
   "metadata": {},
   "outputs": [],
   "source": [
    "# Splitting the data into training set and test set\n",
    "\n",
    "from sklearn.model_selection import train_test_split\n",
    "\n",
    "x_train, x_test, y_train, y_test = train_test_split(x, y, test_size = 0.2, random_state = 15)"
   ]
  },
  {
   "cell_type": "code",
   "execution_count": 45,
   "id": "0a83da59",
   "metadata": {},
   "outputs": [
    {
     "data": {
      "text/html": [
       "<div>\n",
       "<style scoped>\n",
       "    .dataframe tbody tr th:only-of-type {\n",
       "        vertical-align: middle;\n",
       "    }\n",
       "\n",
       "    .dataframe tbody tr th {\n",
       "        vertical-align: top;\n",
       "    }\n",
       "\n",
       "    .dataframe thead th {\n",
       "        text-align: right;\n",
       "    }\n",
       "</style>\n",
       "<table border=\"1\" class=\"dataframe\">\n",
       "  <thead>\n",
       "    <tr style=\"text-align: right;\">\n",
       "      <th></th>\n",
       "      <th>age</th>\n",
       "      <th>sex</th>\n",
       "      <th>cp</th>\n",
       "      <th>trestbps</th>\n",
       "      <th>chol</th>\n",
       "      <th>fbs</th>\n",
       "      <th>restecg</th>\n",
       "      <th>thalach</th>\n",
       "      <th>exang</th>\n",
       "      <th>oldpeak</th>\n",
       "      <th>slope</th>\n",
       "      <th>ca</th>\n",
       "      <th>thal</th>\n",
       "    </tr>\n",
       "  </thead>\n",
       "  <tbody>\n",
       "    <tr>\n",
       "      <th>226</th>\n",
       "      <td>62</td>\n",
       "      <td>1</td>\n",
       "      <td>1</td>\n",
       "      <td>120</td>\n",
       "      <td>281</td>\n",
       "      <td>0</td>\n",
       "      <td>0</td>\n",
       "      <td>103</td>\n",
       "      <td>0</td>\n",
       "      <td>1.4</td>\n",
       "      <td>1</td>\n",
       "      <td>1</td>\n",
       "      <td>3</td>\n",
       "    </tr>\n",
       "    <tr>\n",
       "      <th>129</th>\n",
       "      <td>74</td>\n",
       "      <td>0</td>\n",
       "      <td>1</td>\n",
       "      <td>120</td>\n",
       "      <td>269</td>\n",
       "      <td>0</td>\n",
       "      <td>0</td>\n",
       "      <td>121</td>\n",
       "      <td>1</td>\n",
       "      <td>0.2</td>\n",
       "      <td>2</td>\n",
       "      <td>1</td>\n",
       "      <td>2</td>\n",
       "    </tr>\n",
       "    <tr>\n",
       "      <th>224</th>\n",
       "      <td>54</td>\n",
       "      <td>1</td>\n",
       "      <td>0</td>\n",
       "      <td>110</td>\n",
       "      <td>239</td>\n",
       "      <td>0</td>\n",
       "      <td>1</td>\n",
       "      <td>126</td>\n",
       "      <td>1</td>\n",
       "      <td>2.8</td>\n",
       "      <td>1</td>\n",
       "      <td>1</td>\n",
       "      <td>3</td>\n",
       "    </tr>\n",
       "    <tr>\n",
       "      <th>191</th>\n",
       "      <td>58</td>\n",
       "      <td>1</td>\n",
       "      <td>0</td>\n",
       "      <td>128</td>\n",
       "      <td>216</td>\n",
       "      <td>0</td>\n",
       "      <td>0</td>\n",
       "      <td>131</td>\n",
       "      <td>1</td>\n",
       "      <td>2.2</td>\n",
       "      <td>1</td>\n",
       "      <td>3</td>\n",
       "      <td>3</td>\n",
       "    </tr>\n",
       "    <tr>\n",
       "      <th>20</th>\n",
       "      <td>59</td>\n",
       "      <td>1</td>\n",
       "      <td>0</td>\n",
       "      <td>135</td>\n",
       "      <td>234</td>\n",
       "      <td>0</td>\n",
       "      <td>1</td>\n",
       "      <td>161</td>\n",
       "      <td>0</td>\n",
       "      <td>0.5</td>\n",
       "      <td>1</td>\n",
       "      <td>0</td>\n",
       "      <td>3</td>\n",
       "    </tr>\n",
       "    <tr>\n",
       "      <th>...</th>\n",
       "      <td>...</td>\n",
       "      <td>...</td>\n",
       "      <td>...</td>\n",
       "      <td>...</td>\n",
       "      <td>...</td>\n",
       "      <td>...</td>\n",
       "      <td>...</td>\n",
       "      <td>...</td>\n",
       "      <td>...</td>\n",
       "      <td>...</td>\n",
       "      <td>...</td>\n",
       "      <td>...</td>\n",
       "      <td>...</td>\n",
       "    </tr>\n",
       "    <tr>\n",
       "      <th>200</th>\n",
       "      <td>44</td>\n",
       "      <td>1</td>\n",
       "      <td>0</td>\n",
       "      <td>110</td>\n",
       "      <td>197</td>\n",
       "      <td>0</td>\n",
       "      <td>0</td>\n",
       "      <td>177</td>\n",
       "      <td>0</td>\n",
       "      <td>0.0</td>\n",
       "      <td>2</td>\n",
       "      <td>1</td>\n",
       "      <td>2</td>\n",
       "    </tr>\n",
       "    <tr>\n",
       "      <th>155</th>\n",
       "      <td>58</td>\n",
       "      <td>0</td>\n",
       "      <td>0</td>\n",
       "      <td>130</td>\n",
       "      <td>197</td>\n",
       "      <td>0</td>\n",
       "      <td>1</td>\n",
       "      <td>131</td>\n",
       "      <td>0</td>\n",
       "      <td>0.6</td>\n",
       "      <td>1</td>\n",
       "      <td>0</td>\n",
       "      <td>2</td>\n",
       "    </tr>\n",
       "    <tr>\n",
       "      <th>156</th>\n",
       "      <td>47</td>\n",
       "      <td>1</td>\n",
       "      <td>2</td>\n",
       "      <td>130</td>\n",
       "      <td>253</td>\n",
       "      <td>0</td>\n",
       "      <td>1</td>\n",
       "      <td>179</td>\n",
       "      <td>0</td>\n",
       "      <td>0.0</td>\n",
       "      <td>2</td>\n",
       "      <td>0</td>\n",
       "      <td>2</td>\n",
       "    </tr>\n",
       "    <tr>\n",
       "      <th>133</th>\n",
       "      <td>41</td>\n",
       "      <td>1</td>\n",
       "      <td>1</td>\n",
       "      <td>110</td>\n",
       "      <td>235</td>\n",
       "      <td>0</td>\n",
       "      <td>1</td>\n",
       "      <td>153</td>\n",
       "      <td>0</td>\n",
       "      <td>0.0</td>\n",
       "      <td>2</td>\n",
       "      <td>0</td>\n",
       "      <td>2</td>\n",
       "    </tr>\n",
       "    <tr>\n",
       "      <th>246</th>\n",
       "      <td>56</td>\n",
       "      <td>0</td>\n",
       "      <td>0</td>\n",
       "      <td>134</td>\n",
       "      <td>409</td>\n",
       "      <td>0</td>\n",
       "      <td>0</td>\n",
       "      <td>150</td>\n",
       "      <td>1</td>\n",
       "      <td>1.9</td>\n",
       "      <td>1</td>\n",
       "      <td>2</td>\n",
       "      <td>3</td>\n",
       "    </tr>\n",
       "  </tbody>\n",
       "</table>\n",
       "<p>241 rows × 13 columns</p>\n",
       "</div>"
      ],
      "text/plain": [
       "     age  sex  cp  trestbps  chol  fbs  restecg  thalach  exang  oldpeak  \\\n",
       "226   62    1   1       120   281    0        0      103      0      1.4   \n",
       "129   74    0   1       120   269    0        0      121      1      0.2   \n",
       "224   54    1   0       110   239    0        1      126      1      2.8   \n",
       "191   58    1   0       128   216    0        0      131      1      2.2   \n",
       "20    59    1   0       135   234    0        1      161      0      0.5   \n",
       "..   ...  ...  ..       ...   ...  ...      ...      ...    ...      ...   \n",
       "200   44    1   0       110   197    0        0      177      0      0.0   \n",
       "155   58    0   0       130   197    0        1      131      0      0.6   \n",
       "156   47    1   2       130   253    0        1      179      0      0.0   \n",
       "133   41    1   1       110   235    0        1      153      0      0.0   \n",
       "246   56    0   0       134   409    0        0      150      1      1.9   \n",
       "\n",
       "     slope  ca  thal  \n",
       "226      1   1     3  \n",
       "129      2   1     2  \n",
       "224      1   1     3  \n",
       "191      1   3     3  \n",
       "20       1   0     3  \n",
       "..     ...  ..   ...  \n",
       "200      2   1     2  \n",
       "155      1   0     2  \n",
       "156      2   0     2  \n",
       "133      2   0     2  \n",
       "246      1   2     3  \n",
       "\n",
       "[241 rows x 13 columns]"
      ]
     },
     "execution_count": 45,
     "metadata": {},
     "output_type": "execute_result"
    }
   ],
   "source": [
    "x_train"
   ]
  },
  {
   "cell_type": "code",
   "execution_count": 46,
   "id": "3573a7c0",
   "metadata": {},
   "outputs": [
    {
     "data": {
      "text/html": [
       "<div>\n",
       "<style scoped>\n",
       "    .dataframe tbody tr th:only-of-type {\n",
       "        vertical-align: middle;\n",
       "    }\n",
       "\n",
       "    .dataframe tbody tr th {\n",
       "        vertical-align: top;\n",
       "    }\n",
       "\n",
       "    .dataframe thead th {\n",
       "        text-align: right;\n",
       "    }\n",
       "</style>\n",
       "<table border=\"1\" class=\"dataframe\">\n",
       "  <thead>\n",
       "    <tr style=\"text-align: right;\">\n",
       "      <th></th>\n",
       "      <th>age</th>\n",
       "      <th>sex</th>\n",
       "      <th>cp</th>\n",
       "      <th>trestbps</th>\n",
       "      <th>chol</th>\n",
       "      <th>fbs</th>\n",
       "      <th>restecg</th>\n",
       "      <th>thalach</th>\n",
       "      <th>exang</th>\n",
       "      <th>oldpeak</th>\n",
       "      <th>slope</th>\n",
       "      <th>ca</th>\n",
       "      <th>thal</th>\n",
       "    </tr>\n",
       "  </thead>\n",
       "  <tbody>\n",
       "    <tr>\n",
       "      <th>75</th>\n",
       "      <td>55</td>\n",
       "      <td>0</td>\n",
       "      <td>1</td>\n",
       "      <td>135</td>\n",
       "      <td>250</td>\n",
       "      <td>0</td>\n",
       "      <td>0</td>\n",
       "      <td>161</td>\n",
       "      <td>0</td>\n",
       "      <td>1.4</td>\n",
       "      <td>1</td>\n",
       "      <td>0</td>\n",
       "      <td>2</td>\n",
       "    </tr>\n",
       "    <tr>\n",
       "      <th>288</th>\n",
       "      <td>57</td>\n",
       "      <td>1</td>\n",
       "      <td>0</td>\n",
       "      <td>110</td>\n",
       "      <td>335</td>\n",
       "      <td>0</td>\n",
       "      <td>1</td>\n",
       "      <td>143</td>\n",
       "      <td>1</td>\n",
       "      <td>3.0</td>\n",
       "      <td>1</td>\n",
       "      <td>1</td>\n",
       "      <td>3</td>\n",
       "    </tr>\n",
       "    <tr>\n",
       "      <th>64</th>\n",
       "      <td>58</td>\n",
       "      <td>1</td>\n",
       "      <td>2</td>\n",
       "      <td>140</td>\n",
       "      <td>211</td>\n",
       "      <td>1</td>\n",
       "      <td>0</td>\n",
       "      <td>165</td>\n",
       "      <td>0</td>\n",
       "      <td>0.0</td>\n",
       "      <td>2</td>\n",
       "      <td>0</td>\n",
       "      <td>2</td>\n",
       "    </tr>\n",
       "    <tr>\n",
       "      <th>94</th>\n",
       "      <td>45</td>\n",
       "      <td>0</td>\n",
       "      <td>1</td>\n",
       "      <td>112</td>\n",
       "      <td>160</td>\n",
       "      <td>0</td>\n",
       "      <td>1</td>\n",
       "      <td>138</td>\n",
       "      <td>0</td>\n",
       "      <td>0.0</td>\n",
       "      <td>1</td>\n",
       "      <td>0</td>\n",
       "      <td>2</td>\n",
       "    </tr>\n",
       "    <tr>\n",
       "      <th>144</th>\n",
       "      <td>76</td>\n",
       "      <td>0</td>\n",
       "      <td>2</td>\n",
       "      <td>140</td>\n",
       "      <td>197</td>\n",
       "      <td>0</td>\n",
       "      <td>2</td>\n",
       "      <td>116</td>\n",
       "      <td>0</td>\n",
       "      <td>1.1</td>\n",
       "      <td>1</td>\n",
       "      <td>0</td>\n",
       "      <td>2</td>\n",
       "    </tr>\n",
       "    <tr>\n",
       "      <th>...</th>\n",
       "      <td>...</td>\n",
       "      <td>...</td>\n",
       "      <td>...</td>\n",
       "      <td>...</td>\n",
       "      <td>...</td>\n",
       "      <td>...</td>\n",
       "      <td>...</td>\n",
       "      <td>...</td>\n",
       "      <td>...</td>\n",
       "      <td>...</td>\n",
       "      <td>...</td>\n",
       "      <td>...</td>\n",
       "      <td>...</td>\n",
       "    </tr>\n",
       "    <tr>\n",
       "      <th>50</th>\n",
       "      <td>51</td>\n",
       "      <td>0</td>\n",
       "      <td>2</td>\n",
       "      <td>130</td>\n",
       "      <td>256</td>\n",
       "      <td>0</td>\n",
       "      <td>0</td>\n",
       "      <td>149</td>\n",
       "      <td>0</td>\n",
       "      <td>0.5</td>\n",
       "      <td>2</td>\n",
       "      <td>0</td>\n",
       "      <td>2</td>\n",
       "    </tr>\n",
       "    <tr>\n",
       "      <th>97</th>\n",
       "      <td>52</td>\n",
       "      <td>1</td>\n",
       "      <td>0</td>\n",
       "      <td>108</td>\n",
       "      <td>233</td>\n",
       "      <td>1</td>\n",
       "      <td>1</td>\n",
       "      <td>147</td>\n",
       "      <td>0</td>\n",
       "      <td>0.1</td>\n",
       "      <td>2</td>\n",
       "      <td>3</td>\n",
       "      <td>3</td>\n",
       "    </tr>\n",
       "    <tr>\n",
       "      <th>168</th>\n",
       "      <td>63</td>\n",
       "      <td>1</td>\n",
       "      <td>0</td>\n",
       "      <td>130</td>\n",
       "      <td>254</td>\n",
       "      <td>0</td>\n",
       "      <td>0</td>\n",
       "      <td>147</td>\n",
       "      <td>0</td>\n",
       "      <td>1.4</td>\n",
       "      <td>1</td>\n",
       "      <td>1</td>\n",
       "      <td>3</td>\n",
       "    </tr>\n",
       "    <tr>\n",
       "      <th>297</th>\n",
       "      <td>59</td>\n",
       "      <td>1</td>\n",
       "      <td>0</td>\n",
       "      <td>164</td>\n",
       "      <td>176</td>\n",
       "      <td>1</td>\n",
       "      <td>0</td>\n",
       "      <td>90</td>\n",
       "      <td>0</td>\n",
       "      <td>1.0</td>\n",
       "      <td>1</td>\n",
       "      <td>2</td>\n",
       "      <td>1</td>\n",
       "    </tr>\n",
       "    <tr>\n",
       "      <th>295</th>\n",
       "      <td>63</td>\n",
       "      <td>1</td>\n",
       "      <td>0</td>\n",
       "      <td>140</td>\n",
       "      <td>187</td>\n",
       "      <td>0</td>\n",
       "      <td>0</td>\n",
       "      <td>144</td>\n",
       "      <td>1</td>\n",
       "      <td>4.0</td>\n",
       "      <td>2</td>\n",
       "      <td>2</td>\n",
       "      <td>3</td>\n",
       "    </tr>\n",
       "  </tbody>\n",
       "</table>\n",
       "<p>61 rows × 13 columns</p>\n",
       "</div>"
      ],
      "text/plain": [
       "     age  sex  cp  trestbps  chol  fbs  restecg  thalach  exang  oldpeak  \\\n",
       "75    55    0   1       135   250    0        0      161      0      1.4   \n",
       "288   57    1   0       110   335    0        1      143      1      3.0   \n",
       "64    58    1   2       140   211    1        0      165      0      0.0   \n",
       "94    45    0   1       112   160    0        1      138      0      0.0   \n",
       "144   76    0   2       140   197    0        2      116      0      1.1   \n",
       "..   ...  ...  ..       ...   ...  ...      ...      ...    ...      ...   \n",
       "50    51    0   2       130   256    0        0      149      0      0.5   \n",
       "97    52    1   0       108   233    1        1      147      0      0.1   \n",
       "168   63    1   0       130   254    0        0      147      0      1.4   \n",
       "297   59    1   0       164   176    1        0       90      0      1.0   \n",
       "295   63    1   0       140   187    0        0      144      1      4.0   \n",
       "\n",
       "     slope  ca  thal  \n",
       "75       1   0     2  \n",
       "288      1   1     3  \n",
       "64       2   0     2  \n",
       "94       1   0     2  \n",
       "144      1   0     2  \n",
       "..     ...  ..   ...  \n",
       "50       2   0     2  \n",
       "97       2   3     3  \n",
       "168      1   1     3  \n",
       "297      1   2     1  \n",
       "295      2   2     3  \n",
       "\n",
       "[61 rows x 13 columns]"
      ]
     },
     "execution_count": 46,
     "metadata": {},
     "output_type": "execute_result"
    }
   ],
   "source": [
    "x_test"
   ]
  },
  {
   "cell_type": "code",
   "execution_count": 47,
   "id": "8722be52",
   "metadata": {},
   "outputs": [
    {
     "data": {
      "text/plain": [
       "226    0\n",
       "129    1\n",
       "224    0\n",
       "191    0\n",
       "20     1\n",
       "      ..\n",
       "200    0\n",
       "155    1\n",
       "156    1\n",
       "133    1\n",
       "246    0\n",
       "Name: target, Length: 241, dtype: int64"
      ]
     },
     "execution_count": 47,
     "metadata": {},
     "output_type": "execute_result"
    }
   ],
   "source": [
    "y_train"
   ]
  },
  {
   "cell_type": "code",
   "execution_count": 48,
   "id": "2442cecd",
   "metadata": {},
   "outputs": [
    {
     "data": {
      "text/plain": [
       "75     1\n",
       "288    0\n",
       "64     1\n",
       "94     1\n",
       "144    1\n",
       "      ..\n",
       "50     1\n",
       "97     1\n",
       "168    0\n",
       "297    0\n",
       "295    0\n",
       "Name: target, Length: 61, dtype: int64"
      ]
     },
     "execution_count": 48,
     "metadata": {},
     "output_type": "execute_result"
    }
   ],
   "source": [
    "y_test"
   ]
  },
  {
   "cell_type": "code",
   "execution_count": 49,
   "id": "72bcfd27",
   "metadata": {},
   "outputs": [],
   "source": [
    "from sklearn.linear_model import LogisticRegression\n",
    "from sklearn.metrics import confusion_matrix , classification_report"
   ]
  },
  {
   "cell_type": "code",
   "execution_count": 50,
   "id": "a50b46ae",
   "metadata": {},
   "outputs": [],
   "source": [
    "LR = LogisticRegression(random_state = 10) "
   ]
  },
  {
   "cell_type": "code",
   "execution_count": 51,
   "id": "f7053a23",
   "metadata": {},
   "outputs": [
    {
     "name": "stderr",
     "output_type": "stream",
     "text": [
      "C:\\Users\\14sac\\anaconda3\\lib\\site-packages\\sklearn\\linear_model\\_logistic.py:814: ConvergenceWarning: lbfgs failed to converge (status=1):\n",
      "STOP: TOTAL NO. of ITERATIONS REACHED LIMIT.\n",
      "\n",
      "Increase the number of iterations (max_iter) or scale the data as shown in:\n",
      "    https://scikit-learn.org/stable/modules/preprocessing.html\n",
      "Please also refer to the documentation for alternative solver options:\n",
      "    https://scikit-learn.org/stable/modules/linear_model.html#logistic-regression\n",
      "  n_iter_i = _check_optimize_result(\n"
     ]
    }
   ],
   "source": [
    "LR.fit(x_train,y_train);"
   ]
  },
  {
   "cell_type": "code",
   "execution_count": 52,
   "id": "19c70a38",
   "metadata": {},
   "outputs": [],
   "source": [
    "y_pred = LR.predict(x_test)"
   ]
  },
  {
   "cell_type": "code",
   "execution_count": 53,
   "id": "9c339875",
   "metadata": {},
   "outputs": [
    {
     "data": {
      "text/plain": [
       "array([1, 0, 1, 1, 1, 0, 0, 1, 1, 0, 1, 1, 1, 1, 1, 1, 1, 0, 0, 1, 1, 0,\n",
       "       0, 1, 1, 1, 1, 0, 1, 1, 0, 1, 1, 1, 1, 1, 1, 0, 0, 1, 0, 1, 1, 0,\n",
       "       1, 0, 1, 1, 1, 0, 1, 0, 1, 1, 1, 1, 1, 0, 0, 0, 0], dtype=int64)"
      ]
     },
     "execution_count": 53,
     "metadata": {},
     "output_type": "execute_result"
    }
   ],
   "source": [
    "y_pred"
   ]
  },
  {
   "cell_type": "code",
   "execution_count": 54,
   "id": "0ed79ee8",
   "metadata": {},
   "outputs": [
    {
     "name": "stdout",
     "output_type": "stream",
     "text": [
      "[[15 11]\n",
      " [ 6 29]]\n"
     ]
    }
   ],
   "source": [
    "print(confusion_matrix(y_test,y_pred))"
   ]
  },
  {
   "cell_type": "code",
   "execution_count": 55,
   "id": "22a4d694",
   "metadata": {},
   "outputs": [
    {
     "name": "stdout",
     "output_type": "stream",
     "text": [
      "              precision    recall  f1-score   support\n",
      "\n",
      "           0       0.71      0.58      0.64        26\n",
      "           1       0.72      0.83      0.77        35\n",
      "\n",
      "    accuracy                           0.72        61\n",
      "   macro avg       0.72      0.70      0.71        61\n",
      "weighted avg       0.72      0.72      0.72        61\n",
      "\n"
     ]
    }
   ],
   "source": [
    "print(classification_report(y_test , y_pred))"
   ]
  },
  {
   "cell_type": "code",
   "execution_count": 56,
   "id": "2021c2df",
   "metadata": {},
   "outputs": [
    {
     "data": {
      "text/html": [
       "<div>\n",
       "<style scoped>\n",
       "    .dataframe tbody tr th:only-of-type {\n",
       "        vertical-align: middle;\n",
       "    }\n",
       "\n",
       "    .dataframe tbody tr th {\n",
       "        vertical-align: top;\n",
       "    }\n",
       "\n",
       "    .dataframe thead th {\n",
       "        text-align: right;\n",
       "    }\n",
       "</style>\n",
       "<table border=\"1\" class=\"dataframe\">\n",
       "  <thead>\n",
       "    <tr style=\"text-align: right;\">\n",
       "      <th></th>\n",
       "      <th>Columns</th>\n",
       "      <th>Betas</th>\n",
       "    </tr>\n",
       "  </thead>\n",
       "  <tbody>\n",
       "    <tr>\n",
       "      <th>12</th>\n",
       "      <td>thal</td>\n",
       "      <td>-1.327547</td>\n",
       "    </tr>\n",
       "    <tr>\n",
       "      <th>11</th>\n",
       "      <td>ca</td>\n",
       "      <td>-1.052569</td>\n",
       "    </tr>\n",
       "    <tr>\n",
       "      <th>1</th>\n",
       "      <td>sex</td>\n",
       "      <td>-1.048218</td>\n",
       "    </tr>\n",
       "    <tr>\n",
       "      <th>8</th>\n",
       "      <td>exang</td>\n",
       "      <td>-0.822397</td>\n",
       "    </tr>\n",
       "    <tr>\n",
       "      <th>9</th>\n",
       "      <td>oldpeak</td>\n",
       "      <td>-0.475267</td>\n",
       "    </tr>\n",
       "    <tr>\n",
       "      <th>5</th>\n",
       "      <td>fbs</td>\n",
       "      <td>-0.198236</td>\n",
       "    </tr>\n",
       "    <tr>\n",
       "      <th>3</th>\n",
       "      <td>trestbps</td>\n",
       "      <td>-0.009206</td>\n",
       "    </tr>\n",
       "    <tr>\n",
       "      <th>4</th>\n",
       "      <td>chol</td>\n",
       "      <td>0.001174</td>\n",
       "    </tr>\n",
       "    <tr>\n",
       "      <th>0</th>\n",
       "      <td>age</td>\n",
       "      <td>0.013713</td>\n",
       "    </tr>\n",
       "    <tr>\n",
       "      <th>7</th>\n",
       "      <td>thalach</td>\n",
       "      <td>0.024626</td>\n",
       "    </tr>\n",
       "    <tr>\n",
       "      <th>10</th>\n",
       "      <td>slope</td>\n",
       "      <td>0.465925</td>\n",
       "    </tr>\n",
       "    <tr>\n",
       "      <th>6</th>\n",
       "      <td>restecg</td>\n",
       "      <td>0.615359</td>\n",
       "    </tr>\n",
       "    <tr>\n",
       "      <th>2</th>\n",
       "      <td>cp</td>\n",
       "      <td>0.890187</td>\n",
       "    </tr>\n",
       "  </tbody>\n",
       "</table>\n",
       "</div>"
      ],
      "text/plain": [
       "     Columns     Betas\n",
       "12      thal -1.327547\n",
       "11        ca -1.052569\n",
       "1        sex -1.048218\n",
       "8      exang -0.822397\n",
       "9    oldpeak -0.475267\n",
       "5        fbs -0.198236\n",
       "3   trestbps -0.009206\n",
       "4       chol  0.001174\n",
       "0        age  0.013713\n",
       "7    thalach  0.024626\n",
       "10     slope  0.465925\n",
       "6    restecg  0.615359\n",
       "2         cp  0.890187"
      ]
     },
     "execution_count": 56,
     "metadata": {},
     "output_type": "execute_result"
    }
   ],
   "source": [
    "pd.DataFrame(data = {'Columns' : x_train.columns , 'Betas' : LR.coef_.flatten()}).sort_values('Betas')"
   ]
  },
  {
   "cell_type": "markdown",
   "id": "fe906908",
   "metadata": {},
   "source": [
    "### 3(b) Baseline model using Random Forest"
   ]
  },
  {
   "cell_type": "code",
   "execution_count": 57,
   "id": "68e468a2",
   "metadata": {},
   "outputs": [],
   "source": [
    "from sklearn.ensemble import RandomForestClassifier"
   ]
  },
  {
   "cell_type": "code",
   "execution_count": 58,
   "id": "371d26ac",
   "metadata": {},
   "outputs": [],
   "source": [
    "rf = RandomForestClassifier(n_estimators=50, random_state = 50) "
   ]
  },
  {
   "cell_type": "code",
   "execution_count": 59,
   "id": "a0d39d8b",
   "metadata": {},
   "outputs": [
    {
     "data": {
      "text/plain": [
       "RandomForestClassifier(n_estimators=50, random_state=50)"
      ]
     },
     "execution_count": 59,
     "metadata": {},
     "output_type": "execute_result"
    }
   ],
   "source": [
    "rf.fit(x_train, y_train)"
   ]
  },
  {
   "cell_type": "code",
   "execution_count": 60,
   "id": "73b23a95",
   "metadata": {},
   "outputs": [],
   "source": [
    "y_pred1 = rf.predict(x_test)"
   ]
  },
  {
   "cell_type": "code",
   "execution_count": 61,
   "id": "32b20f61",
   "metadata": {},
   "outputs": [
    {
     "data": {
      "text/plain": [
       "array([1, 0, 1, 1, 1, 0, 0, 1, 1, 1, 0, 1, 1, 1, 1, 0, 1, 0, 0, 0, 1, 0,\n",
       "       0, 0, 1, 1, 1, 0, 1, 1, 0, 1, 1, 1, 0, 0, 0, 0, 1, 1, 0, 1, 1, 1,\n",
       "       1, 0, 1, 1, 1, 1, 1, 0, 1, 1, 0, 1, 1, 0, 0, 0, 0], dtype=int64)"
      ]
     },
     "execution_count": 61,
     "metadata": {},
     "output_type": "execute_result"
    }
   ],
   "source": [
    "y_pred1"
   ]
  },
  {
   "cell_type": "code",
   "execution_count": 62,
   "id": "9fbb4537",
   "metadata": {},
   "outputs": [
    {
     "name": "stdout",
     "output_type": "stream",
     "text": [
      "[[20  6]\n",
      " [ 5 30]]\n"
     ]
    }
   ],
   "source": [
    "print(confusion_matrix(y_test,y_pred1))"
   ]
  },
  {
   "cell_type": "code",
   "execution_count": 63,
   "id": "15f21ca7",
   "metadata": {},
   "outputs": [
    {
     "name": "stdout",
     "output_type": "stream",
     "text": [
      "              precision    recall  f1-score   support\n",
      "\n",
      "           0       0.80      0.77      0.78        26\n",
      "           1       0.83      0.86      0.85        35\n",
      "\n",
      "    accuracy                           0.82        61\n",
      "   macro avg       0.82      0.81      0.81        61\n",
      "weighted avg       0.82      0.82      0.82        61\n",
      "\n"
     ]
    }
   ],
   "source": [
    "print(classification_report(y_test , y_pred1))"
   ]
  },
  {
   "cell_type": "code",
   "execution_count": null,
   "id": "db1d74c6",
   "metadata": {},
   "outputs": [],
   "source": [
    "# Accuracy score of 82% using the Random Forest model was providing the best prediction as compared to Logistic Regression."
   ]
  },
  {
   "cell_type": "code",
   "execution_count": 64,
   "id": "3e8c1a70",
   "metadata": {},
   "outputs": [
    {
     "data": {
      "text/html": [
       "<div>\n",
       "<style scoped>\n",
       "    .dataframe tbody tr th:only-of-type {\n",
       "        vertical-align: middle;\n",
       "    }\n",
       "\n",
       "    .dataframe tbody tr th {\n",
       "        vertical-align: top;\n",
       "    }\n",
       "\n",
       "    .dataframe thead th {\n",
       "        text-align: right;\n",
       "    }\n",
       "</style>\n",
       "<table border=\"1\" class=\"dataframe\">\n",
       "  <thead>\n",
       "    <tr style=\"text-align: right;\">\n",
       "      <th></th>\n",
       "      <th>0</th>\n",
       "    </tr>\n",
       "  </thead>\n",
       "  <tbody>\n",
       "    <tr>\n",
       "      <th>ca</th>\n",
       "      <td>0.150653</td>\n",
       "    </tr>\n",
       "    <tr>\n",
       "      <th>thal</th>\n",
       "      <td>0.133014</td>\n",
       "    </tr>\n",
       "    <tr>\n",
       "      <th>cp</th>\n",
       "      <td>0.123803</td>\n",
       "    </tr>\n",
       "    <tr>\n",
       "      <th>thalach</th>\n",
       "      <td>0.114281</td>\n",
       "    </tr>\n",
       "    <tr>\n",
       "      <th>oldpeak</th>\n",
       "      <td>0.103517</td>\n",
       "    </tr>\n",
       "    <tr>\n",
       "      <th>chol</th>\n",
       "      <td>0.077661</td>\n",
       "    </tr>\n",
       "    <tr>\n",
       "      <th>age</th>\n",
       "      <td>0.076907</td>\n",
       "    </tr>\n",
       "    <tr>\n",
       "      <th>trestbps</th>\n",
       "      <td>0.063742</td>\n",
       "    </tr>\n",
       "    <tr>\n",
       "      <th>slope</th>\n",
       "      <td>0.055882</td>\n",
       "    </tr>\n",
       "    <tr>\n",
       "      <th>exang</th>\n",
       "      <td>0.044801</td>\n",
       "    </tr>\n",
       "    <tr>\n",
       "      <th>sex</th>\n",
       "      <td>0.030014</td>\n",
       "    </tr>\n",
       "    <tr>\n",
       "      <th>restecg</th>\n",
       "      <td>0.018991</td>\n",
       "    </tr>\n",
       "    <tr>\n",
       "      <th>fbs</th>\n",
       "      <td>0.006734</td>\n",
       "    </tr>\n",
       "  </tbody>\n",
       "</table>\n",
       "</div>"
      ],
      "text/plain": [
       "                 0\n",
       "ca        0.150653\n",
       "thal      0.133014\n",
       "cp        0.123803\n",
       "thalach   0.114281\n",
       "oldpeak   0.103517\n",
       "chol      0.077661\n",
       "age       0.076907\n",
       "trestbps  0.063742\n",
       "slope     0.055882\n",
       "exang     0.044801\n",
       "sex       0.030014\n",
       "restecg   0.018991\n",
       "fbs       0.006734"
      ]
     },
     "execution_count": 64,
     "metadata": {},
     "output_type": "execute_result"
    }
   ],
   "source": [
    "pd.DataFrame(rf.feature_importances_ , index = x_train.columns).sort_values(0 , ascending = False)"
   ]
  },
  {
   "cell_type": "markdown",
   "id": "1112fc64",
   "metadata": {},
   "source": [
    "### Using GridSearchCV to fine tune the parameters"
   ]
  },
  {
   "cell_type": "code",
   "execution_count": 65,
   "id": "303e01e5",
   "metadata": {},
   "outputs": [],
   "source": [
    "from sklearn.model_selection import GridSearchCV"
   ]
  },
  {
   "cell_type": "code",
   "execution_count": 66,
   "id": "35fe9263",
   "metadata": {},
   "outputs": [],
   "source": [
    "param_grid = {'n_estimators': [20,30,50,100,150,200,250],\n",
    "              'criterion': ['gini' , 'entropy'],\n",
    "              'max_depth' : [3, 5, 10,20],\n",
    "              'min_samples_split' : [5 , 10, 20,30,50]\n",
    "             } "
   ]
  },
  {
   "cell_type": "code",
   "execution_count": 67,
   "id": "f88330ab",
   "metadata": {},
   "outputs": [
    {
     "name": "stdout",
     "output_type": "stream",
     "text": [
      "Fitting 2 folds for each of 280 candidates, totalling 560 fits\n"
     ]
    },
    {
     "data": {
      "text/plain": [
       "GridSearchCV(cv=2,\n",
       "             estimator=RandomForestClassifier(n_estimators=50, random_state=50),\n",
       "             n_jobs=-1,\n",
       "             param_grid={'criterion': ['gini', 'entropy'],\n",
       "                         'max_depth': [3, 5, 10, 20],\n",
       "                         'min_samples_split': [5, 10, 20, 30, 50],\n",
       "                         'n_estimators': [20, 30, 50, 100, 150, 200, 250]},\n",
       "             verbose=1)"
      ]
     },
     "execution_count": 67,
     "metadata": {},
     "output_type": "execute_result"
    }
   ],
   "source": [
    "grid = GridSearchCV( rf, param_grid , refit = True , verbose = 1, n_jobs = -1 , cv = 2)\n",
    "\n",
    "grid.fit(x_train,y_train)"
   ]
  },
  {
   "cell_type": "code",
   "execution_count": 68,
   "id": "8293d667",
   "metadata": {},
   "outputs": [],
   "source": [
    "grid_predictions = grid.predict(x_test)"
   ]
  },
  {
   "cell_type": "code",
   "execution_count": 69,
   "id": "3364dfab",
   "metadata": {},
   "outputs": [
    {
     "name": "stdout",
     "output_type": "stream",
     "text": [
      "[[18  8]\n",
      " [ 7 28]]\n"
     ]
    }
   ],
   "source": [
    "print(confusion_matrix(y_test,grid_predictions))"
   ]
  },
  {
   "cell_type": "code",
   "execution_count": 70,
   "id": "5c7b7b57",
   "metadata": {},
   "outputs": [
    {
     "name": "stdout",
     "output_type": "stream",
     "text": [
      "              precision    recall  f1-score   support\n",
      "\n",
      "           0       0.72      0.69      0.71        26\n",
      "           1       0.78      0.80      0.79        35\n",
      "\n",
      "    accuracy                           0.75        61\n",
      "   macro avg       0.75      0.75      0.75        61\n",
      "weighted avg       0.75      0.75      0.75        61\n",
      "\n"
     ]
    }
   ],
   "source": [
    "print(classification_report(y_test,grid_predictions))"
   ]
  },
  {
   "cell_type": "code",
   "execution_count": 71,
   "id": "88772a1d",
   "metadata": {},
   "outputs": [
    {
     "data": {
      "text/plain": [
       "{'criterion': 'gini',\n",
       " 'max_depth': 5,\n",
       " 'min_samples_split': 30,\n",
       " 'n_estimators': 100}"
      ]
     },
     "execution_count": 71,
     "metadata": {},
     "output_type": "execute_result"
    }
   ],
   "source": [
    "grid.best_params_"
   ]
  },
  {
   "cell_type": "code",
   "execution_count": 72,
   "id": "800d782c",
   "metadata": {},
   "outputs": [
    {
     "data": {
      "image/png": "[encoded data removed]",
      "text/plain": [
       "<Figure size 1152x576 with 2 Axes>"
      ]
     },
     "metadata": {
      "needs_background": "light"
     },
     "output_type": "display_data"
    }
   ],
   "source": [
    "plt.figure(figsize= (16, 8))\n",
    "sns.heatmap(health.corr(), annot = True, cmap= 'coolwarm', fmt= '.2f');"
   ]
  },
  {
   "cell_type": "markdown",
   "id": "1b35fd52",
   "metadata": {},
   "source": [
    "### Logistic regression values using Stats Model"
   ]
  },
  {
   "cell_type": "code",
   "execution_count": 73,
   "id": "93d85f3c",
   "metadata": {},
   "outputs": [
    {
     "name": "stdout",
     "output_type": "stream",
     "text": [
      "Optimization terminated successfully.\n",
      "         Current function value: 0.317146\n",
      "         Iterations 7\n"
     ]
    }
   ],
   "source": [
    "lr_sm = sm.Logit(y_train, x_train).fit()"
   ]
  },
  {
   "cell_type": "code",
   "execution_count": 74,
   "id": "d632bf4d",
   "metadata": {},
   "outputs": [
    {
     "name": "stdout",
     "output_type": "stream",
     "text": [
      "                           Logit Regression Results                           \n",
      "==============================================================================\n",
      "Dep. Variable:                 target   No. Observations:                  241\n",
      "Model:                          Logit   Df Residuals:                      228\n",
      "Method:                           MLE   Df Model:                           12\n",
      "Date:                Sun, 13 Nov 2022   Pseudo R-squ.:                  0.5408\n",
      "Time:                        17:34:30   Log-Likelihood:                -76.432\n",
      "converged:                       True   LL-Null:                       -166.45\n",
      "Covariance Type:            nonrobust   LLR p-value:                 4.201e-32\n",
      "==============================================================================\n",
      "                 coef    std err          z      P>|z|      [0.025      0.975]\n",
      "------------------------------------------------------------------------------\n",
      "age            0.0193      0.023      0.844      0.399      -0.025       0.064\n",
      "sex           -1.2902      0.505     -2.557      0.011      -2.279      -0.301\n",
      "cp             0.9667      0.236      4.105      0.000       0.505       1.428\n",
      "trestbps      -0.0087      0.011     -0.759      0.448      -0.031       0.014\n",
      "chol           0.0007      0.005      0.144      0.886      -0.009       0.010\n",
      "fbs           -0.3421      0.648     -0.528      0.598      -1.613       0.928\n",
      "restecg        0.7024      0.406      1.731      0.084      -0.093       1.498\n",
      "thalach        0.0251      0.009      2.749      0.006       0.007       0.043\n",
      "exang         -1.0469      0.481     -2.177      0.029      -1.989      -0.104\n",
      "oldpeak       -0.4570      0.251     -1.819      0.069      -0.949       0.035\n",
      "slope          0.5837      0.397      1.470      0.142      -0.195       1.362\n",
      "ca            -1.1812      0.278     -4.251      0.000      -1.726      -0.637\n",
      "thal          -1.4187      0.378     -3.755      0.000      -2.159      -0.678\n",
      "==============================================================================\n"
     ]
    }
   ],
   "source": [
    "print(lr_sm.summary())"
   ]
  },
  {
   "cell_type": "code",
   "execution_count": 75,
   "id": "99179e37",
   "metadata": {},
   "outputs": [],
   "source": [
    "y_pred2=lr_sm.predict(x_test)"
   ]
  },
  {
   "cell_type": "code",
   "execution_count": 76,
   "id": "9fee5248",
   "metadata": {},
   "outputs": [],
   "source": [
    "prediction = list(map(round, y_pred2))"
   ]
  },
  {
   "cell_type": "code",
   "execution_count": 77,
   "id": "eada34e3",
   "metadata": {},
   "outputs": [
    {
     "name": "stdout",
     "output_type": "stream",
     "text": [
      "Actual values:  [1, 0, 1, 1, 1, 0, 1, 1, 0, 1, 1, 1, 1, 1, 1, 1, 1, 0, 0, 0, 1, 0, 0, 0, 0, 1, 0, 0, 1, 1, 0, 1, 1, 1, 0, 0, 0, 0, 1, 1, 0, 1, 1, 1, 1, 0, 1, 0, 1, 1, 0, 0, 1, 0, 1, 1, 1, 1, 0, 0, 0]\n",
      "Predictions : [1, 0, 1, 1, 1, 0, 0, 1, 1, 0, 1, 1, 1, 1, 1, 1, 1, 0, 0, 1, 0, 0, 0, 1, 1, 1, 1, 0, 1, 1, 0, 1, 1, 1, 1, 1, 1, 0, 0, 1, 0, 1, 1, 0, 1, 0, 1, 1, 1, 0, 1, 0, 1, 1, 1, 1, 1, 0, 0, 0, 0]\n"
     ]
    }
   ],
   "source": [
    "print('Actual values: ', list(y_test.values))\n",
    "print('Predictions :', prediction)"
   ]
  },
  {
   "cell_type": "code",
   "execution_count": 78,
   "id": "943fdf72",
   "metadata": {},
   "outputs": [
    {
     "name": "stdout",
     "output_type": "stream",
     "text": [
      "[[15 11]\n",
      " [ 7 28]]\n"
     ]
    }
   ],
   "source": [
    "print(confusion_matrix(y_test,prediction))"
   ]
  },
  {
   "cell_type": "code",
   "execution_count": 79,
   "id": "01c24043",
   "metadata": {},
   "outputs": [
    {
     "name": "stdout",
     "output_type": "stream",
     "text": [
      "              precision    recall  f1-score   support\n",
      "\n",
      "           0       0.68      0.58      0.62        26\n",
      "           1       0.72      0.80      0.76        35\n",
      "\n",
      "    accuracy                           0.70        61\n",
      "   macro avg       0.70      0.69      0.69        61\n",
      "weighted avg       0.70      0.70      0.70        61\n",
      "\n"
     ]
    }
   ],
   "source": [
    "print(classification_report(y_test,prediction))"
   ]
  },
  {
   "cell_type": "markdown",
   "id": "be4019e7",
   "metadata": {},
   "source": [
    "### Using feature selection by dropping features having p-value <0.05"
   ]
  },
  {
   "cell_type": "code",
   "execution_count": 80,
   "id": "503182d6",
   "metadata": {},
   "outputs": [],
   "source": [
    "x1 = health.drop(['age','trestbps','chol','fbs','restecg','slope','target','AgeCategory','CholCategory'],axis=1)"
   ]
  },
  {
   "cell_type": "code",
   "execution_count": 81,
   "id": "45c4e78a",
   "metadata": {},
   "outputs": [],
   "source": [
    "x1_train, x1_test, y_train, y_test = train_test_split(x1, y, test_size = 0.2, random_state = 20)"
   ]
  },
  {
   "cell_type": "code",
   "execution_count": 82,
   "id": "b8cc508a",
   "metadata": {},
   "outputs": [
    {
     "name": "stdout",
     "output_type": "stream",
     "text": [
      "Optimization terminated successfully.\n",
      "         Current function value: 0.376149\n",
      "         Iterations 7\n"
     ]
    }
   ],
   "source": [
    "lr_sm_reduced = sm.Logit(y_train, x1_train).fit()"
   ]
  },
  {
   "cell_type": "code",
   "execution_count": 83,
   "id": "f8368abf",
   "metadata": {},
   "outputs": [
    {
     "name": "stdout",
     "output_type": "stream",
     "text": [
      "                           Logit Regression Results                           \n",
      "==============================================================================\n",
      "Dep. Variable:                 target   No. Observations:                  241\n",
      "Model:                          Logit   Df Residuals:                      234\n",
      "Method:                           MLE   Df Model:                            6\n",
      "Date:                Sun, 13 Nov 2022   Pseudo R-squ.:                  0.4565\n",
      "Time:                        17:34:53   Log-Likelihood:                -90.652\n",
      "converged:                       True   LL-Null:                       -166.80\n",
      "Covariance Type:            nonrobust   LLR p-value:                 2.536e-30\n",
      "==============================================================================\n",
      "                 coef    std err          z      P>|z|      [0.025      0.975]\n",
      "------------------------------------------------------------------------------\n",
      "sex           -1.3464      0.437     -3.082      0.002      -2.203      -0.490\n",
      "cp             0.6853      0.194      3.540      0.000       0.306       1.065\n",
      "thalach        0.0260      0.005      5.272      0.000       0.016       0.036\n",
      "exang         -1.2595      0.456     -2.764      0.006      -2.153      -0.366\n",
      "oldpeak       -0.5071      0.195     -2.599      0.009      -0.890      -0.125\n",
      "ca            -0.7805      0.217     -3.589      0.000      -1.207      -0.354\n",
      "thal          -0.9526      0.304     -3.132      0.002      -1.549      -0.357\n",
      "==============================================================================\n"
     ]
    }
   ],
   "source": [
    "print(lr_sm_reduced.summary())"
   ]
  },
  {
   "cell_type": "code",
   "execution_count": 84,
   "id": "03bdb1f6",
   "metadata": {},
   "outputs": [],
   "source": [
    "y_pred3=lr_sm_reduced.predict(x1_test)"
   ]
  },
  {
   "cell_type": "code",
   "execution_count": 85,
   "id": "c0dad277",
   "metadata": {},
   "outputs": [],
   "source": [
    "prediction1 = list(map(round, y_pred3))"
   ]
  },
  {
   "cell_type": "code",
   "execution_count": 86,
   "id": "81e9fdef",
   "metadata": {},
   "outputs": [
    {
     "name": "stdout",
     "output_type": "stream",
     "text": [
      "Actual values:  [0, 1, 0, 1, 1, 1, 1, 0, 0, 1, 0, 0, 1, 1, 0, 0, 0, 1, 1, 1, 1, 0, 0, 1, 1, 0, 1, 0, 1, 1, 1, 0, 0, 0, 1, 1, 0, 1, 1, 0, 1, 0, 1, 1, 0, 1, 1, 1, 0, 1, 1, 1, 1, 1, 1, 1, 0, 1, 1, 1, 0]\n",
      "Predictions : [0, 1, 0, 1, 1, 1, 0, 0, 0, 1, 0, 0, 1, 0, 0, 1, 0, 1, 1, 1, 1, 1, 0, 1, 1, 0, 1, 0, 0, 1, 1, 0, 1, 0, 1, 1, 0, 1, 1, 1, 0, 0, 0, 1, 0, 1, 1, 1, 0, 1, 1, 1, 0, 0, 1, 1, 0, 1, 1, 1, 0]\n"
     ]
    }
   ],
   "source": [
    "print('Actual values: ', list(y_test.values))\n",
    "print('Predictions :', prediction1)"
   ]
  },
  {
   "cell_type": "code",
   "execution_count": 87,
   "id": "4ce5e449",
   "metadata": {},
   "outputs": [
    {
     "name": "stdout",
     "output_type": "stream",
     "text": [
      "[[19  4]\n",
      " [ 7 31]]\n"
     ]
    }
   ],
   "source": [
    "print(confusion_matrix(y_test,prediction1))"
   ]
  },
  {
   "cell_type": "code",
   "execution_count": 88,
   "id": "9d2b7b12",
   "metadata": {},
   "outputs": [
    {
     "name": "stdout",
     "output_type": "stream",
     "text": [
      "              precision    recall  f1-score   support\n",
      "\n",
      "           0       0.73      0.83      0.78        23\n",
      "           1       0.89      0.82      0.85        38\n",
      "\n",
      "    accuracy                           0.82        61\n",
      "   macro avg       0.81      0.82      0.81        61\n",
      "weighted avg       0.83      0.82      0.82        61\n",
      "\n"
     ]
    }
   ],
   "source": [
    "print(classification_report(y_test,prediction1))"
   ]
  },
  {
   "cell_type": "code",
   "execution_count": null,
   "id": "6fb101a2",
   "metadata": {},
   "outputs": [],
   "source": [
    "# Prediction of CVD after using feature engineering in Logistic Regression, using the StatsModel, had an accuracy score of 82%."
   ]
  },
  {
   "cell_type": "code",
   "execution_count": null,
   "id": "53d7ea53",
   "metadata": {},
   "outputs": [],
   "source": []
  }
 ],
 "metadata": {
  "kernelspec": {
   "display_name": "Python 3 (ipykernel)",
   "language": "python",
   "name": "python3"
  },
  "language_info": {
   "codemirror_mode": {
    "name": "ipython",
    "version": 3
   },
   "file_extension": ".py",
   "mimetype": "text/x-python",
   "name": "python",
   "nbconvert_exporter": "python",
   "pygments_lexer": "ipython3",
   "version": "3.9.12"
  }
 },
 "nbformat": 4,
 "nbformat_minor": 5
}
